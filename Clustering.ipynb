{
 "cells": [
  {
   "cell_type": "markdown",
   "id": "f5e756e5-f259-4796-a013-77db02e6a57f",
   "metadata": {},
   "source": [
    "<h1>Wirecell Clustering v0_xx_0 (sbndcode v0x_xx_xx)</h1>"
   ]
  },
  {
   "cell_type": "markdown",
   "id": "378b5653-d2b4-40b8-818f-e347e8c24e04",
   "metadata": {},
   "source": [
    "[General commands (Jupyter, Github, etc)](http://localhost:8888/notebooks/OneDrive/Documentos/backup-2023-xx-xx/Meetings/WireCell/Misc/Misc.ipynb)"
   ]
  },
  {
   "cell_type": "markdown",
   "id": "872176e4-103f-4482-b41a-8aedbff176c8",
   "metadata": {},
   "source": [
    "<h5>Code locations (make sure to push changes to personal github frequently)"
   ]
  },
  {
   "cell_type": "markdown",
   "id": "ae4b8e1d-44dd-469b-bf4b-010729afa06d",
   "metadata": {},
   "source": [
    "[gpvm] /exp/sbnd/app(data)/users/ebatista/wirecell-clustering <br>\n",
    "[Ewerton local] cd /mnt/c/Users/ewert/OneDrive/Documentos/backup-2023-xx-xx/Meetings/WireCell/Clustering/wirecell-clustering <br>\n",
    "[Ewerton GitHub] https://github.com/ebelchio12/wirecell-clustering <br>\n",
    " <br>\n",
    "[Haiwang: try this] https://github.com/HaiwangYu/wcp-porting-img/tree/main/sbnd <br>\n",
    "[Haiwang: input files] /exp/sbnd/app/users/yuhw/wcp-porting-img/sbnd/ <br>\n",
    "[Haiwang: setup] https://github.com/HaiwangYu/wcp-porting-img/blob/main/sbnd/setup.sh"
   ]
  },
  {
   "cell_type": "markdown",
   "id": "aa88a989-cdc7-4622-b3a0-e77748b8e255",
   "metadata": {},
   "source": [
    "<h5>Setup sbndcode"
   ]
  },
  {
   "cell_type": "code",
   "execution_count": null,
   "id": "8c3b9817-1cb4-4dcc-b829-03b4da8053cc",
   "metadata": {},
   "outputs": [],
   "source": [
    "/cvmfs/oasis.opensciencegrid.org/mis/apptainer/current/bin/apptainer shell --shell=/bin/bash -B /cvmfs,/exp,/nashome,/pnfs/sbn,/pnfs/sbnd,/opt,/run/user,/etc/hostname,/etc/hosts,/etc/krb5.conf --ipc --pid /cvmfs/singularity.opensciencegrid.org/fermilab/fnal-dev-sl7:latest"
   ]
  },
  {
   "cell_type": "code",
   "execution_count": 11,
   "id": "f2bf7fb0-c0e8-4240-9b83-c0c66f921083",
   "metadata": {},
   "outputs": [
    {
     "name": "stdout",
     "output_type": "stream",
     "text": [
      "Setting up LArSoft from \"CVMFS\":\n",
      " - executing '/cvmfs/larsoft.opensciencegrid.org/setup_larsoft.sh'\n",
      " - appending '/cvmfs/fermilab.opensciencegrid.org/products/common/db'\n",
      "Setting up artdaq from \"CVMFS\":\n",
      " - appending '/cvmfs/fermilab.opensciencegrid.org/products/artdaq'\n",
      "Setting up sbn from \"CVMFS\":\n",
      " - appending '/cvmfs/sbn.opensciencegrid.org/products/sbn'\n",
      "Setting up SBND from \"CVMFS\":\n",
      " - prepending '/cvmfs/sbnd.opensciencegrid.org/products/sbnd'\n"
     ]
    }
   ],
   "source": [
    "%%bash \n",
    "source /cvmfs/sbnd.opensciencegrid.org/products/sbnd/setup_sbnd.sh\n",
    "setup sbndcode v09_91_02 -q e26:prof"
   ]
  },
  {
   "cell_type": "markdown",
   "id": "999a4c9e-ce0f-4b6b-94c1-26d2aa76d3c5",
   "metadata": {},
   "source": [
    "***\n",
    "<h5>Dec 20, 2024</h5>\n",
    "0-0.6 GeV low energy range<br>\n",
    "0.6-1.5 medium<br>\n",
    "1.5-3.0 high<br>\n",
    " \n",
    "10 to 20 events of:\n",
    "0. Cosmics \n",
    "1. NumuCC\n",
    "2. nueCC\n",
    "3. NC\n",
    "\n",
    "Create machinery from gen to 3D bee display to save JSON info\n",
    " \n",
    "1. Handscan\n",
    "2. Quantitative\n",
    "3. Completeness/Efficiciency\n",
    "\n",
    "Check how to save MC info to make 3D view in bee display "
   ]
  },
  {
   "cell_type": "markdown",
   "id": "2e3eb227-67f1-46d5-bdf5-bdd893506d26",
   "metadata": {},
   "source": [
    "***\n",
    "<h5>Jan 7, 2025</h5>"
   ]
  },
  {
   "cell_type": "code",
   "execution_count": null,
   "id": "668d2ac9-dd4f-4e1e-a8b5-488a3bc14520",
   "metadata": {},
   "outputs": [],
   "source": [
    "#!/bin/bash\n",
    "# usage: ./run-eval.sh\n",
    "\n",
    "# gen FCL\n",
    "FCL_GEN0=prodgenie_enuelastic.fcl\n",
    "FCL_GEN1=prodcorsika_cosmics_cmc.fcl\n",
    "FCL_GEN2=prodgenie_intrnue_singleinteraction_tpc_sbnd.fcl\n",
    "FCL_GEN3=prodgenie_nu_singleinteraction_tpc_sbnd.fcl\n",
    "FCL_GEN4=NC_gen.fcl\n",
    "\n",
    "# choose process and nevents\n",
    "FCL_GEN=$FCL_GEN0\n",
    "NEVT=20\n",
    "\n",
    "# set DIR\n",
    "WORKDIR=/exp/sbnd/app/users/ebatista/wirecell-clustering/work\n",
    "OUTDIR=/exp/sbnd/data/users/ebatista/wirecell-clustering/out\n",
    "\n",
    "# other FCL\n",
    "FCL_G4=g4_sce_lite.fcl\n",
    "FCL_SIGPROC=wirecell_sim_sp_sbnd.fcl\n",
    "FCL_IMGCLUS=wcls-img-clus.fcl\n",
    "\n",
    "if [ \"$FCL_GEN\" == \"$FCL_GEN0\" ]; then\n",
    "  OUTDIR=$OUTDIR/enuelastic\n",
    "elif [ \"$FCL_GEN\" == \"$FCL_GEN1\" ]; then\n",
    "  OUTDIR=$OUTDIR/cosmics\n",
    "elif [ \"$FCL_GEN\" == \"$FCL_GEN2\" ]; then\n",
    "  OUTDIR=$OUTDIR/nueCC\n",
    "elif [ \"$FCL_GEN\" == \"$FCL_GEN3\" ]; then\n",
    "  OUTDIR=$OUTDIR/numuCC\n",
    "elif [ \"$FCL_GEN\" == \"$FCL_GEN4\" ]; then\n",
    "  OUTDIR=$OUTDIR/NC\n",
    "fi\n",
    "\n",
    "# clone img-clus repo\n",
    "cd $WORKDIR\n",
    "if [ ! -d \"wcp-porting-img\" ]; then\n",
    "  git clone https://github.com/HaiwangYu/wcp-porting-img.git\n",
    "fi\n",
    "\n",
    "# setup\n",
    "/cvmfs/oasis.opensciencegrid.org/mis/apptainer/current/bin/apptainer shell --shell=/bin/bash -B /cvmfs,/exp,/nashome,/pnfs/sbn,/pnfs/sbnd,/opt,/run/user,/etc/hostname,/etc/hosts,/etc/krb5.conf --ipc --pid /cvmfs/singularity.opensciencegrid.org/fermilab/fnal-dev-sl7:latest\n",
    "source /cvmfs/sbnd.opensciencegrid.org/products/sbnd/setup_sbnd.sh\n",
    "setup sbndcode v09_91_02 -q e26:prof\n",
    "\n",
    "# gen\n",
    "lar -n $NEVT -c $FCL_GEN -o $OUTDIR/gen_${NEVT}evts.root #>& $OUTDIR/gen.log\n",
    "\n",
    "# g4\n",
    "lar -c $FCL_G4 -s $OUTDIR/gen_${NEVT}evts.root -o $OUTDIR/g4_${NEVT}evts.root #>& $OUTDIR/g4.log\n",
    "\n",
    "# sigproc\n",
    "lar -c $FCL_SIGPROC -s $OUTDIR/g4_${NEVT}evts.root -o $OUTDIR/sigproc_${NEVT}evts.root #>& $OUTDIR/sigproc.log\n",
    "\n",
    "# img-clus\n",
    "cd $WORKDIR/wcp-porting-img/sbnd\n",
    "source setup.sh\n",
    "time lar --nskip 1 -n 1 -c $FCL_IMGCLUS -s $OUTDIR/sigproc_${NEVT}evts.root -o $OUTDIR/imgclus_${NEVT}evts.root #>& $OUTDIR/imgclus.log\n",
    "python merge-zip.py\n",
    "../upload-to-bee.sh mabc.zip #>& $OUTDIR/bee.log\n",
    "mv *.zip $OUTDIR\n",
    "mv *.tar.gz $OUTDIR\n",
    "rm cputime.db memory.db messages.log errors.log hists_*root sbnd-data-check.root"
   ]
  },
  {
   "cell_type": "code",
   "execution_count": null,
   "id": "87344b33-8bfb-40ab-bd10-305a7838a5bb",
   "metadata": {},
   "outputs": [],
   "source": [
    "#!/bin/bash\n",
    "# usage: ./run-clus.sh\n",
    "\n",
    "# set DIR\n",
    "WORKDIR=/exp/sbnd/app/users/ebatista/wirecell-clustering/work\n",
    "OUTDIR=/exp/sbnd/data/users/ebatista/wirecell-clustering/out\n",
    "\n",
    "cd $WORKDIR/wcp-porting-img/sbnd\n",
    "\n",
    "for i in {0..19}\n",
    "do\n",
    "  rm clus-apa* mabc*\n",
    "  lar -n 1 --nskip $i -c wcls-img-clus.fcl -s $OUTDIR/numuCC/sigproc_20evts.root -o tmp.root\n",
    "  python merge-zip.py\n",
    "  ../upload-to-bee.sh mabc.zip >& $OUTDIR/numuCC/bee_$i.log\n",
    "done\n",
    "\n",
    "for i in {0..19}\n",
    "do\n",
    "  grep list $OUTDIR/numuCC/bee_$i.log\n",
    "done"
   ]
  },
  {
   "cell_type": "markdown",
   "id": "c8313676-a415-411b-b47a-61d4a7dfe354",
   "metadata": {},
   "source": [
    "***\n",
    "<h5>Jan 8, 2025</h5>"
   ]
  },
  {
   "cell_type": "markdown",
   "id": "54c64c58-0d62-474d-a790-8ea1bc0800b1",
   "metadata": {},
   "source": [
    "TODO Jan 8, 2025\n",
    "\n",
    "energydepos_numelectrons~500 or similar as threshold for saving truth energy deposits. Find reasonable threshold using distribution of numelectrons for all energydepos\n",
    "\n",
    "x axis: time distributions of energy deposits -> should be something like 5 to 10 ns width\n",
    "\n",
    "send two events to Haiwang: failed and sucessfull\n",
    "\n",
    "------------\n",
    "Later in semester!! \n",
    "cosmic tagger: tag cosmic muons (already in wirecell)\n",
    "neutrino cross section measurement (inclusive)\n",
    "FEMB tests with liquid nitrogen stuff in lab (regular service work)\n"
   ]
  },
  {
   "cell_type": "markdown",
   "id": "29aeb1d2-9779-457d-bd7b-ea72d2e9a09a",
   "metadata": {},
   "source": [
    "***\n",
    "<h5>Jan 9, 2025</h5>"
   ]
  },
  {
   "cell_type": "code",
   "execution_count": null,
   "id": "a971aed9-1417-4042-86fc-96e69ffefbc8",
   "metadata": {},
   "outputs": [],
   "source": [
    "cd /exp/sbnd/app/users/ebatista/wirecell-clustering/work\n",
    "mkdir larsoft_v09_91_02\n",
    "cd larsoft_v09_91_02\n",
    "mrb newDev\n",
    "source localProducts_larsoft_v09_91_02_e26_prof/setup\n",
    "cd srcs\n",
    "git clone -b v09_25_04 https://github.com/LArSoft/larreco.git\n",
    "mrb uc\n",
    "cd $MRB_BUILDDIR\n",
    "mrbsetenv\n",
    "mrb i --generator ninja\n",
    "cd /exp/sbnd/app/users/ebatista/wirecell-clustering/work\n",
    "\n",
    "mrbslp\n",
    "\n",
    "lar -n1 -c celltree_sbnd.fcl /exp/sbnd/data/users/ebatista/wirecell-clustering/out/enuelastic/sigproc_20evts.root"
   ]
  },
  {
   "cell_type": "markdown",
   "id": "3238aead-4dbd-46c6-a842-8b6158734212",
   "metadata": {},
   "source": [
    "***\n",
    "<h5>Jan 13, 2025</h5>"
   ]
  },
  {
   "cell_type": "code",
   "execution_count": 14,
   "id": "03d51448-2717-49e7-a763-db303b82c6b2",
   "metadata": {},
   "outputs": [
    {
     "name": "stderr",
     "output_type": "stream",
     "text": [
      "Info in <TGeoManager::Import>: Reading geometry from file: /cvmfs/sbnd.opensciencegrid.org/products/sbnd/sbndcode/v09_91_02/gdml/sbnd_v02_01.gdml\n",
      "Info in <TGeoManager::TGeoManager>: Geometry GDMLImport, Geometry imported from GDML created\n"
     ]
    },
    {
     "name": "stdout",
     "output_type": "stream",
     "text": [
      "Error: Unsupported GDML Tag Used :gdml_simple_extension. Please Check Geometry/Schema.\n"
     ]
    },
    {
     "name": "stderr",
     "output_type": "stream",
     "text": [
      "Info in <TGeoManager::SetTopVolume>: Top volume is volWorld. Master volume is volWorld\n",
      "Info in <TGeoNavigator::BuildCache>: --- Maximum geometry depth set to 100\n",
      "Info in <TGeoManager::CheckGeometry>: Fixing runtime shapes...\n",
      "Info in <TGeoManager::CheckGeometry>: ...Nothing to fix\n",
      "Info in <TGeoManager::CloseGeometry>: Counting nodes...\n",
      "Info in <TGeoManager::Voxelize>: Voxelizing...\n",
      "Info in <TGeoManager::CloseGeometry>: Building cache...\n",
      "Info in <TGeoManager::CountLevels>: max level = 6, max placements = 1984\n",
      "Info in <TGeoManager::CloseGeometry>: 15667 nodes/ 4474 volume UID's in Geometry imported from GDML\n",
      "Info in <TGeoManager::CloseGeometry>: ----------------modeler ready----------------\n"
     ]
    },
    {
     "name": "stdout",
     "output_type": "stream",
     "text": [
      "13-Jan-2025 14:54:23 CST  Initiating request to open input file \"/exp/sbnd/data/users/ebatista/wirecell-clustering/out/nueCC/sigproc_20evts.root\"\n",
      "13-Jan-2025 14:54:23 CST  Opened input file \"/exp/sbnd/data/users/ebatista/wirecell-clustering/out/nueCC/sigproc_20evts.root\"\n",
      "WARNING: no label simtpc2d:daq\n",
      "WARNING: no label wctsp:gauss\n",
      "total IDEs: 4130\n",
      "13-Jan-2025 14:54:23 CST  Closed input file \"/exp/sbnd/data/users/ebatista/wirecell-clustering/out/nueCC/sigproc_20evts.root\"\n",
      "\n",
      "====================================================================================================================\n",
      "TimeTracker printout (sec)            Min           Avg           Max         Median          RMS         nEvts   \n",
      "====================================================================================================================\n",
      "Full event                         0.0332596     0.0332596     0.0332596     0.0332596         0            1     \n",
      "--------------------------------------------------------------------------------------------------------------------\n",
      "source:RootInput(read)            0.000365155   0.000365155   0.000365155   0.000365155        0            1     \n",
      "end_path:wirecell:CellTree         0.0326905     0.0326905     0.0326905     0.0326905         0            1     \n",
      "====================================================================================================================\n",
      "\n",
      "====================================================================================================\n",
      "MemoryTracker summary (base-10 MB units used)\n",
      "\n",
      "  Peak virtual memory usage (VmPeak)  : 1736.31 MB\n",
      "  Peak resident set size usage (VmHWM): 846.868 MB\n",
      "  Details saved in: 'memory.db'\n",
      "====================================================================================================\n",
      "\n",
      "TrigReport ---------- Event summary -------------\n",
      "TrigReport Events total = 1 passed = 1 failed = 0\n",
      "\n",
      "TrigReport ---------- Modules in End-path ----------\n",
      "TrigReport        Run    Success      Error Name\n",
      "TrigReport          1          1          0 wirecell\n",
      "\n",
      "TimeReport ---------- Time summary [sec] -------\n",
      "TimeReport CPU = 0.065565 Real = 2.369290\n",
      "\n",
      "MemReport  ---------- Memory summary [base-10 MB] ------\n",
      "MemReport  VmPeak = 1736.31 VmHWM = 846.868\n",
      "\n",
      "Art has completed and will exit with status 0.\n"
     ]
    }
   ],
   "source": [
    "%%bash\n",
    "\n",
    "#cd /exp/sbnd/app/users/ebatista/wirecell-clustering/work\n",
    "#source larsoft_v09_91_02/localProducts_larsoft_v09_91_02_e26_prof/setup\n",
    "\n",
    "\n",
    "lar -n1 --nskip 2 -c celltree_sbnd.fcl /exp/sbnd/data/users/ebatista/wirecell-clustering/out/nueCC/sigproc_20evts.root\n",
    "#ls\n",
    "#head -n 9 bee/data/0/0-truthDepo.json | tail -n 1 | cut -c 6- > delme.tx"
   ]
  },
  {
   "cell_type": "code",
   "execution_count": 16,
   "id": "42584971-61ce-4669-b57e-82ebe49dec59",
   "metadata": {},
   "outputs": [
    {
     "name": "stdout",
     "output_type": "stream",
     "text": [
      "/exp/sbnd/app/users/ebatista/wirecell-clustering\n"
     ]
    }
   ],
   "source": [
    "%%bash\n",
    "\n",
    "pwd"
   ]
  },
  {
   "cell_type": "code",
   "execution_count": 6,
   "id": "8ac46c61-626f-4db9-9ec7-d969857a9564",
   "metadata": {},
   "outputs": [],
   "source": [
    "\n",
    "%%bash\n",
    "cd work\n",
    "ls bee/data"
   ]
  },
  {
   "cell_type": "code",
   "execution_count": null,
   "id": "7745f484-8234-497d-86c9-6838335b7a30",
   "metadata": {},
   "outputs": [],
   "source": []
  }
 ],
 "metadata": {
  "kernelspec": {
   "display_name": "Python 3 (ipykernel)",
   "language": "python",
   "name": "python3"
  },
  "language_info": {
   "codemirror_mode": {
    "name": "ipython",
    "version": 3
   },
   "file_extension": ".py",
   "mimetype": "text/x-python",
   "name": "python",
   "nbconvert_exporter": "python",
   "pygments_lexer": "ipython3",
   "version": "3.9.15"
  }
 },
 "nbformat": 4,
 "nbformat_minor": 5
}
