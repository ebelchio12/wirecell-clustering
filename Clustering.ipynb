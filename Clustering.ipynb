{
 "cells": [
  {
   "cell_type": "markdown",
   "id": "f5e756e5-f259-4796-a013-77db02e6a57f",
   "metadata": {},
   "source": [
    "<h1>Wirecell Clustering v0_xx_0 (sbndcode v0x_xx_xx)</h1>"
   ]
  },
  {
   "cell_type": "markdown",
   "id": "378b5653-d2b4-40b8-818f-e347e8c24e04",
   "metadata": {},
   "source": [
    "[General commands (Jupyter, Github, etc)](http://localhost:8888/notebooks/OneDrive/Documentos/backup-2023-xx-xx/Meetings/WireCell/Misc/Misc.ipynb)"
   ]
  },
  {
   "cell_type": "markdown",
   "id": "872176e4-103f-4482-b41a-8aedbff176c8",
   "metadata": {},
   "source": [
    "<h5>Code locations (make sure to push changes to personal github frequently)"
   ]
  },
  {
   "cell_type": "markdown",
   "id": "ae4b8e1d-44dd-469b-bf4b-010729afa06d",
   "metadata": {},
   "source": [
    "[gpvm] /exp/sbnd/app(data)/users/ebatista/wirecell-clustering <br>\n",
    "[Ewerton local] cd /mnt/c/Users/ewert/OneDrive/Documentos/backup-2023-xx-xx/Meetings/WireCell/Clustering/wirecell-clustering <br>\n",
    "[Ewerton GitHub] https://github.com/ebelchio12/wirecell-clustering <br>\n",
    " <br>\n",
    "[Haiwang: try this] https://github.com/HaiwangYu/wcp-porting-img/tree/main/sbnd <br>\n",
    "[Haiwang: input files] /exp/sbnd/app/users/yuhw/wcp-porting-img/sbnd/ <br>\n",
    "[Haiwang: setup] https://github.com/HaiwangYu/wcp-porting-img/blob/main/sbnd/setup.sh"
   ]
  },
  {
   "cell_type": "markdown",
   "id": "aa88a989-cdc7-4622-b3a0-e77748b8e255",
   "metadata": {},
   "source": [
    "<h5>Setup sbndcode"
   ]
  },
  {
   "cell_type": "code",
   "execution_count": null,
   "id": "8c3b9817-1cb4-4dcc-b829-03b4da8053cc",
   "metadata": {},
   "outputs": [],
   "source": [
    "/cvmfs/oasis.opensciencegrid.org/mis/apptainer/current/bin/apptainer shell --shell=/bin/bash -B /cvmfs,/exp,/nashome,/pnfs/sbn,/pnfs/sbnd,/opt,/run/user,/etc/hostname,/etc/hosts,/etc/krb5.conf --ipc --pid /cvmfs/singularity.opensciencegrid.org/fermilab/fnal-dev-sl7:latest"
   ]
  },
  {
   "cell_type": "code",
   "execution_count": null,
   "id": "578d9a46-d9c8-4908-9075-184d06f097e4",
   "metadata": {},
   "outputs": [],
   "source": [
    "source /cvmfs/sbnd.opensciencegrid.org/products/sbnd/setup_sbnd.sh\n",
    "setup sbndcode v09_91_02 -q e26:prof"
   ]
  },
  {
   "cell_type": "markdown",
   "id": "999a4c9e-ce0f-4b6b-94c1-26d2aa76d3c5",
   "metadata": {},
   "source": [
    "***\n",
    "<h5>Dec 20, 2024</h5>\n",
    "0-0.6 GeV low energy range<br>\n",
    "0.6-1.5 medium<br>\n",
    "1.5-3.0 high<br>\n",
    " \n",
    "10 to 20 events of:\n",
    "0. Cosmics \n",
    "1. NumuCC\n",
    "2. nueCC\n",
    "3. NC\n",
    "\n",
    "Create machinery from gen to 3D bee display to save JSON info\n",
    " \n",
    "1. Handscan\n",
    "2. Quantitative\n",
    "3. Completeness/Efficiciency\n",
    "\n",
    "Check how to save MC info to make 3D view in bee display "
   ]
  },
  {
   "cell_type": "markdown",
   "id": "2e3eb227-67f1-46d5-bdf5-bdd893506d26",
   "metadata": {},
   "source": [
    "***\n",
    "<h5>Jan 7, 2025</h5>"
   ]
  },
  {
   "cell_type": "code",
   "execution_count": null,
   "id": "668d2ac9-dd4f-4e1e-a8b5-488a3bc14520",
   "metadata": {},
   "outputs": [],
   "source": [
    "#!/bin/bash\n",
    "# usage: ./run-eval.sh\n",
    "\n",
    "# gen FCL\n",
    "FCL_GEN0=prodgenie_enuelastic.fcl\n",
    "FCL_GEN1=prodcorsika_cosmics_cmc.fcl\n",
    "FCL_GEN2=prodgenie_intrnue_singleinteraction_tpc_sbnd.fcl\n",
    "FCL_GEN3=prodgenie_nu_singleinteraction_tpc_sbnd.fcl\n",
    "FCL_GEN4=NC_gen.fcl\n",
    "\n",
    "# choose process and nevents\n",
    "FCL_GEN=$FCL_GEN0\n",
    "NEVT=20\n",
    "\n",
    "# set DIR\n",
    "WORKDIR=/exp/sbnd/app/users/ebatista/wirecell-clustering/work\n",
    "OUTDIR=/exp/sbnd/data/users/ebatista/wirecell-clustering/out\n",
    "\n",
    "# other FCL\n",
    "FCL_G4=g4_sce_lite.fcl\n",
    "FCL_SIGPROC=wirecell_sim_sp_sbnd.fcl\n",
    "FCL_IMGCLUS=wcls-img-clus.fcl\n",
    "\n",
    "if [ \"$FCL_GEN\" == \"$FCL_GEN0\" ]; then\n",
    "  OUTDIR=$OUTDIR/enuelastic\n",
    "elif [ \"$FCL_GEN\" == \"$FCL_GEN1\" ]; then\n",
    "  OUTDIR=$OUTDIR/cosmics\n",
    "elif [ \"$FCL_GEN\" == \"$FCL_GEN2\" ]; then\n",
    "  OUTDIR=$OUTDIR/nueCC\n",
    "elif [ \"$FCL_GEN\" == \"$FCL_GEN3\" ]; then\n",
    "  OUTDIR=$OUTDIR/numuCC\n",
    "elif [ \"$FCL_GEN\" == \"$FCL_GEN4\" ]; then\n",
    "  OUTDIR=$OUTDIR/NC\n",
    "fi\n",
    "\n",
    "# clone img-clus repo\n",
    "cd $WORKDIR\n",
    "if [ ! -d \"wcp-porting-img\" ]; then\n",
    "  git clone https://github.com/HaiwangYu/wcp-porting-img.git\n",
    "fi\n",
    "\n",
    "# setup\n",
    "/cvmfs/oasis.opensciencegrid.org/mis/apptainer/current/bin/apptainer shell --shell=/bin/bash -B /cvmfs,/exp,/nashome,/pnfs/sbn,/pnfs/sbnd,/opt,/run/user,/etc/hostname,/etc/hosts,/etc/krb5.conf --ipc --pid /cvmfs/singularity.opensciencegrid.org/fermilab/fnal-dev-sl7:latest\n",
    "source /cvmfs/sbnd.opensciencegrid.org/products/sbnd/setup_sbnd.sh\n",
    "setup sbndcode v09_91_02 -q e26:prof\n",
    "\n",
    "# gen\n",
    "lar -n $NEVT -c $FCL_GEN -o $OUTDIR/gen_${NEVT}evts.root #>& $OUTDIR/gen.log\n",
    "\n",
    "# g4\n",
    "lar -c $FCL_G4 -s $OUTDIR/gen_${NEVT}evts.root -o $OUTDIR/g4_${NEVT}evts.root #>& $OUTDIR/g4.log\n",
    "\n",
    "# sigproc\n",
    "lar -c $FCL_SIGPROC -s $OUTDIR/g4_${NEVT}evts.root -o $OUTDIR/sigproc_${NEVT}evts.root #>& $OUTDIR/sigproc.log\n",
    "\n",
    "# img-clus\n",
    "cd $WORKDIR/wcp-porting-img/sbnd\n",
    "source setup.sh\n",
    "time lar --nskip 1 -n 1 -c $FCL_IMGCLUS -s $OUTDIR/sigproc_${NEVT}evts.root -o $OUTDIR/imgclus_${NEVT}evts.root #>& $OUTDIR/imgclus.log\n",
    "python merge-zip.py\n",
    "../upload-to-bee.sh mabc.zip #>& $OUTDIR/bee.log\n",
    "mv *.zip $OUTDIR\n",
    "mv *.tar.gz $OUTDIR\n",
    "rm cputime.db memory.db messages.log errors.log hists_*root sbnd-data-check.root"
   ]
  },
  {
   "cell_type": "code",
   "execution_count": null,
   "id": "87344b33-8bfb-40ab-bd10-305a7838a5bb",
   "metadata": {},
   "outputs": [],
   "source": [
    "#!/bin/bash\n",
    "# usage: ./run-clus.sh\n",
    "\n",
    "# set DIR\n",
    "WORKDIR=/exp/sbnd/app/users/ebatista/wirecell-clustering/work\n",
    "OUTDIR=/exp/sbnd/data/users/ebatista/wirecell-clustering/out\n",
    "\n",
    "cd $WORKDIR/wcp-porting-img/sbnd\n",
    "\n",
    "for i in {0..19}\n",
    "do\n",
    "  rm clus-apa* mabc*\n",
    "  lar -n 1 --nskip $i -c wcls-img-clus.fcl -s $OUTDIR/numuCC/sigproc_20evts.root -o tmp.root\n",
    "  python merge-zip.py\n",
    "  ../upload-to-bee.sh mabc.zip >& $OUTDIR/numuCC/bee_$i.log\n",
    "done\n",
    "\n",
    "for i in {0..19}\n",
    "do\n",
    "  grep list $OUTDIR/numuCC/bee_$i.log\n",
    "done"
   ]
  },
  {
   "cell_type": "markdown",
   "id": "c8313676-a415-411b-b47a-61d4a7dfe354",
   "metadata": {},
   "source": [
    "***\n",
    "<h5>Jan 8, 2025</h5>"
   ]
  },
  {
   "cell_type": "markdown",
   "id": "54c64c58-0d62-474d-a790-8ea1bc0800b1",
   "metadata": {},
   "source": [
    "TODO Jan 8, 2025\n",
    "\n",
    "energydepos_numelectrons~500 or similar as threshold for saving truth energy deposits. Find reasonable threshold using distribution of numelectrons for all energydepos\n",
    "\n",
    "x axis: time distributions of energy deposits -> should be something like 5 to 10 ns width\n",
    "\n",
    "send two events to Haiwang: failed and sucessfull\n",
    "\n",
    "------------\n",
    "Later in semester!! \n",
    "cosmic tagger: tag cosmic muons (already in wirecell)\n",
    "neutrino cross section measurement (inclusive)\n",
    "FEMB tests with liquid nitrogen stuff in lab (regular service work)\n"
   ]
  },
  {
   "cell_type": "markdown",
   "id": "29aeb1d2-9779-457d-bd7b-ea72d2e9a09a",
   "metadata": {},
   "source": [
    "***\n",
    "<h5>Jan 9, 2025</h5>"
   ]
  },
  {
   "cell_type": "code",
   "execution_count": null,
   "id": "a971aed9-1417-4042-86fc-96e69ffefbc8",
   "metadata": {},
   "outputs": [],
   "source": [
    "cd /exp/sbnd/app/users/ebatista/wirecell-clustering/work\n",
    "mkdir larsoft_v09_91_02\n",
    "cd larsoft_v09_91_02\n",
    "mrb newDev\n",
    "source localProducts_larsoft_v09_91_02_e26_prof/setup\n",
    "cd srcs\n",
    "git clone -b v09_25_04 https://github.com/LArSoft/larreco.git\n",
    "mrb uc\n",
    "cd $MRB_BUILDDIR\n",
    "mrbsetenv\n",
    "mrb i --generator ninja\n",
    "cd /exp/sbnd/app/users/ebatista/wirecell-clustering/work\n",
    "\n",
    "mrbslp\n",
    "\n",
    "lar -n1 -c celltree_sbnd.fcl /exp/sbnd/data/users/ebatista/wirecell-clustering/out/enuelastic/sigproc_20evts.root"
   ]
  },
  {
   "cell_type": "markdown",
   "id": "e9188df9-54fc-448b-b33d-d3a7f0da64ae",
   "metadata": {},
   "source": [
    "***\n",
    "<h5>Jan 13, 2025</h5>"
   ]
  },
  {
   "cell_type": "code",
   "execution_count": null,
   "id": "6affd353-8c71-4f04-ab40-3545208f8c36",
   "metadata": {},
   "outputs": [],
   "source": [
    "cd /exp/sbnd/app/users/ebatista/wirecell-clustering/work\n",
    "source larsoft_v09_91_02/localProducts_larsoft_v09_91_02_e26_prof/setup\n",
    "\n",
    "lar -n1 --nskip 2 -c celltree_sbnd.fcl /exp/sbnd/data/users/ebatista/wirecell-clustering/out/nueCC/sigproc_20evts.root\n",
    "head -n 9 bee/data/0/0-truthDepo.json | tail -n 1 | cut -c 6- | tr ',' '\\n' > delme.txt"
   ]
  },
  {
   "cell_type": "markdown",
   "id": "fdae9818-c0c6-4ea2-982e-0c79b7213ef3",
   "metadata": {},
   "source": [
    "***\n",
    "<h5>Jan 14, 2025</h5>"
   ]
  },
  {
   "cell_type": "code",
   "execution_count": null,
   "id": "8496d366-05a1-4fd1-a855-391056f413d5",
   "metadata": {},
   "outputs": [],
   "source": [
    "python /exp/sbnd/app/users/ebatista/wirecell-clustering/work/unzip-file.py #[unzip clustering output]"
   ]
  }
 ],
 "metadata": {
  "kernelspec": {
   "display_name": "Python 3 (ipykernel)",
   "language": "python",
   "name": "python3"
  },
  "language_info": {
   "codemirror_mode": {
    "name": "ipython",
    "version": 3
   },
   "file_extension": ".py",
   "mimetype": "text/x-python",
   "name": "python",
   "nbconvert_exporter": "python",
   "pygments_lexer": "ipython3",
   "version": "3.11.7"
  }
 },
 "nbformat": 4,
 "nbformat_minor": 5
}
