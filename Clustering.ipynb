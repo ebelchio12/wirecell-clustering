{
 "cells": [
  {
   "cell_type": "markdown",
   "id": "f5e756e5-f259-4796-a013-77db02e6a57f",
   "metadata": {},
   "source": [
    "<h1>Wirecell Clustering v0_xx_0 (sbndcode v0x_xx_xx)</h1>"
   ]
  },
  {
   "cell_type": "markdown",
   "id": "5c68aacd-66f9-4b74-9990-c14b81ab1cf5",
   "metadata": {},
   "source": [
    "GitHub commands: http://localhost:8888/notebooks/OneDrive%2FDocumentos%2Fbackup-2023-xx-xx%2FMeetings%2FWireCell%2FMisc%2FMisc.ipynb"
   ]
  },
  {
   "cell_type": "markdown",
   "id": "872176e4-103f-4482-b41a-8aedbff176c8",
   "metadata": {},
   "source": [
    "<h5>Code locations (make sure to push changes to personal github frequently)"
   ]
  },
  {
   "cell_type": "raw",
   "id": "5e49723d-55a6-453a-a3c0-a2914b2d192a",
   "metadata": {},
   "source": [
    "[gpvm wct WireCellClus] /exp/sbnd/data/users/ebatista/wirecell-clustering\n",
    "[local wsl files] cd /mnt/c/Users/ewert/OneDrive/Documentos/backup-2023-xx-xx/Meetings/WireCell/Clustering/wirecell-clustering\n",
    "[web WireCellClus] #git clone --branch apply-pointcloud https://github.com/WireCell/wire-cell-toolkit.git\n",
    "                   https://github.com/WireCell/wire-cell-toolkit/tree/apply-pointcloud\n",
    "[web clustering jsonnet] https://github.com/HaiwangYu/wcp-porting-img/blob/main/wct-uboone-clustering.jsonnet\n",
    "[web imaging output examples] https://www.phy.bnl.gov/~yuhw/wcp-porting-img/fgval/\n",
    "[Ewerton GitHub] https://github.com/ebelchio12/wirecell-clustering"
   ]
  },
  {
   "cell_type": "markdown",
   "id": "a604edba-3de9-49d7-93d2-832f0e924c32",
   "metadata": {},
   "source": [
    "<h5>Setup Apptainer"
   ]
  },
  {
   "cell_type": "code",
   "execution_count": null,
   "id": "1c7ca255-702c-4e1c-a576-4d1bbfc922c4",
   "metadata": {},
   "outputs": [],
   "source": [
    "/cvmfs/oasis.opensciencegrid.org/mis/apptainer/current/bin/apptainer shell --shell=/bin/bash -B /cvmfs,/exp,/nashome,/pnfs/sbn,/pnfs/sbnd,/opt,/run/user,/etc/hostname,/etc/hosts,/etc/krb5.conf --ipc --pid /cvmfs/singularity.opensciencegrid.org/fermilab/fnal-dev-sl7:latest"
   ]
  },
  {
   "cell_type": "markdown",
   "id": "aa88a989-cdc7-4622-b3a0-e77748b8e255",
   "metadata": {},
   "source": [
    "<h5>Setup sbndcode"
   ]
  },
  {
   "cell_type": "code",
   "execution_count": null,
   "id": "53fe6589-4921-4c41-80d1-1f488863661b",
   "metadata": {},
   "outputs": [],
   "source": [
    "source /cvmfs/sbnd.opensciencegrid.org/products/sbnd/setup_sbnd.sh\n",
    "setup sbndcode v09_91_02 -q e26:prof"
   ]
  },
  {
   "cell_type": "markdown",
   "id": "3ec7fe74-f119-4ed9-a0e2-dc177ec6dcc7",
   "metadata": {},
   "source": [
    "<h5>Setup larwirecell"
   ]
  },
  {
   "cell_type": "code",
   "execution_count": null,
   "id": "9c26a383-c7b0-4658-9743-d921b32107ee",
   "metadata": {},
   "outputs": [],
   "source": [
    "cd /exp/sbnd/data/users/ebatista/wirecell-clustering\n",
    "source larsoft_v09_91_02_e26_prof/localProducts_larsoft_v09_91_02_e26_prof/setup\n",
    "mrbsetenv\n",
    "mrbslp"
   ]
  },
  {
   "cell_type": "markdown",
   "id": "2b016982-ba10-4e56-9efb-e00733b8240c",
   "metadata": {},
   "source": [
    "<h5>Setup wirecell (configuration)"
   ]
  },
  {
   "cell_type": "code",
   "execution_count": null,
   "id": "70870c70-1ec8-4530-b0e3-40e98148a651",
   "metadata": {},
   "outputs": [],
   "source": [
    "export LD_LIBRARY_PATH=/exp/sbnd/app/users/yuhw/opt/lib/:$LD_LIBRARY_PATH\n",
    "export WIRECELL_PATH=/exp/sbnd/app/users/yuhw/wct-cfg/cfg:$WIRECELL_PATH\n",
    "export WIRECELL_PATH=/exp/sbnd/app/users/yuhw/wire-cell-data:$WIRECELL_PATH\n"
   ]
  },
  {
   "cell_type": "markdown",
   "id": "8c4fb52c-bcdf-4fad-9659-2ae32d6fb983",
   "metadata": {},
   "source": [
    "<h5>Compile wirecell (if needed)"
   ]
  },
  {
   "cell_type": "code",
   "execution_count": null,
   "id": "21615cae-114d-4686-994d-5a4144727f34",
   "metadata": {},
   "outputs": [],
   "source": [
    "# push changes to github first ...\n",
    "# cd /exp/sbnd/data/users/ebatista/wirecell-clustering/wire-cell-toolkit\n",
    "# git status\n",
    "# git add <files>\n",
    "# git... \n",
    "\n",
    "# ... then compile\n",
    "cd /exp/sbnd/data/users/ebatista/wirecell-clustering/wire-cell-toolkit\n",
    "./wcb configure \\\n",
    "--prefix=/exp/sbnd/data/users/ebatista/wirecell-clustering/wire-cell-toolkit/install \\\n",
    "--with-spdlog=/cvmfs/larsoft.opensciencegrid.org/products/spdlog/v1_9_2 \\\n",
    "--with-spdlog-include=/cvmfs/larsoft.opensciencegrid.org/products/spdlog/v1_9_2/Linux64bit+3.10-2.17-e20-prof/include \\\n",
    "--with-spdlog-lib=/cvmfs/larsoft.opensciencegrid.org/products/spdlog/v1_9_2/Linux64bit+3.10-2.17-e20-prof/lib64 \\\n",
    "--with-jsoncpp=/cvmfs/larsoft.opensciencegrid.org/products/jsoncpp/v1_9_5a \\\n",
    "--with-jsoncpp-include=/cvmfs/larsoft.opensciencegrid.org/products/jsoncpp/v1_9_5a/Linux64bit+3.10-2.17-e20-prof/include \\\n",
    "--with-jsoncpp-lib=/cvmfs/larsoft.opensciencegrid.org/products/jsoncpp/v1_9_5a/Linux64bit+3.10-2.17-e20-prof/lib \\\n",
    "--with-eigen=/cvmfs/larsoft.opensciencegrid.org/products/eigen/v3_4_0 \\\n",
    "--with-eigen-include=/cvmfs/larsoft.opensciencegrid.org/products/eigen/v3_4_0/include/eigen3 \\\n",
    "--with-jsonnet-lib=/cvmfs/larsoft.opensciencegrid.org/products/jsonnet/v0_17_0a/Linux64bit+3.10-2.17-e20-prof/lib \\\n",
    "--with-jsonnet-include=/cvmfs/larsoft.opensciencegrid.org/products/jsonnet/v0_17_0a/Linux64bit+3.10-2.17-e20-prof/include \\\n",
    "--boost-includes=/cvmfs/larsoft.opensciencegrid.org/products/boost/v1_80_0/Linux64bit+3.10-2.17-e20-prof/include \\\n",
    "--boost-libs=/cvmfs/larsoft.opensciencegrid.org/products/boost/v1_80_0/Linux64bit+3.10-2.17-e20-prof/lib\n",
    "./wcb -p -v --notests install\n",
    "cd -"
   ]
  },
  {
   "cell_type": "markdown",
   "id": "db4362cd-6dba-4b26-9be0-136d000eb6e5",
   "metadata": {},
   "source": [
    "<h5>Setup wirecell (configuration)"
   ]
  },
  {
   "cell_type": "code",
   "execution_count": null,
   "id": "d4f35163-7480-429e-b976-06cfd06291fc",
   "metadata": {},
   "outputs": [],
   "source": [
    "export WIRECELL_PATH=/exp/sbnd/app/users/ebatista/test_sbndcode_v09_83_01_e26_prof/wire-cell-cfg:/exp/sbnd/app/users/ebatista/test_sbndcode_v09_83_01_e26_prof/wire-cell-data:$WIRECELL_PATH\n",
    "export LD_LIBRARY_PATH=/exp/sbnd/data/users/ebatista/wirecell-clustering/wire-cell-toolkit/install/lib64:$LD_LIBRARY_PATH"
   ]
  },
  {
   "cell_type": "markdown",
   "id": "f96a726f-7849-444b-a834-c91609a90224",
   "metadata": {},
   "source": [
    "<h5>Run clustering"
   ]
  },
  {
   "cell_type": "code",
   "execution_count": null,
   "id": "979c7f74-fc2f-4c75-a60b-a9730c73ec9e",
   "metadata": {},
   "outputs": [],
   "source": [
    "Run clustering (wire-cell executable only available on gpvm for now):\n",
    "\n",
    "cd /exp/sbnd/data/users/ebatista/wirecell-clustering\n",
    "source /exp/sbnd/app/users/ebatista/venv/bin/activate\n",
    "time lar -n 1 -c wcls-sig-to-img_v4.fcl -s /exp/sbnd/app/users/yuhw/wcp-porting-img/sbnd/input-moon.root -o tmp.root >& log"
   ]
  },
  {
   "cell_type": "code",
   "execution_count": null,
   "id": "89ab9b38-c8df-4b90-ac6f-76417fb21c78",
   "metadata": {},
   "outputs": [],
   "source": [
    "Visualize graph:\n",
    "\n",
    "jsonnet -J \\\n",
    "/exp/sbnd/app/users/ebatista/test_sbndcode_v09_83_01_e26_prof/wire-cell-cfg \\\n",
    "/exp/sbnd/app/users/ebatista/img-clustering/wcp-porting-img/wct-uboone-clustering-copy.jsonnet \\\n",
    "-o wct-uboone-clustering-copy.json\n",
    "\n",
    "wirecell-pgraph dotify --jpath -1 --no-params \\\n",
    "wct-uboone-clustering-copy.json \\\n",
    "wct-uboone-clustering-copy.pdf"
   ]
  },
  {
   "cell_type": "markdown",
   "id": "fc336c81-c766-43d3-ad8e-a45e90f289d7",
   "metadata": {},
   "source": [
    "<h3>Dec 19, 2024"
   ]
  },
  {
   "cell_type": "markdown",
   "id": "e6c7a537-a007-4f93-bcfb-83d68c088cf4",
   "metadata": {},
   "source": [
    "[try this] https://github.com/HaiwangYu/wcp-porting-img/tree/main/sbnd\n",
    "[input files] /exp/sbnd/app/users/yuhw/wcp-porting-img/sbnd/\n",
    "[setup] https://github.com/HaiwangYu/wcp-porting-img/blob/main/sbnd/setup.sh\n",
    "[setup here as well] /exp/sbnd/app/users/yuhw/wcp-porting-img/sbnd/setup.sh"
   ]
  },
  {
   "cell_type": "markdown",
   "id": "89e15c16-f913-41f2-ac3a-85f8fcbce597",
   "metadata": {},
   "source": [
    "<h4>------------------TODO------------------"
   ]
  },
  {
   "cell_type": "markdown",
   "id": "81455015-fd7e-49eb-81f9-67d6249383c0",
   "metadata": {},
   "source": [
    "<h5>Dec 20, 2024</h5>\n",
    "0-0.6 GeV low energy range\n",
    "0.6-1.5 medium\n",
    "1.5-3.0 high\n",
    " \n",
    "10 to 20 events of:\n",
    "0. Cosmics \n",
    "1. NumuCC\n",
    "2. nueCC\n",
    "3. NC\n",
    "\n",
    "Create machinery from gen to 3D bee display to save JSON info\n",
    " \n",
    "1. Handscan\n",
    "2. Quantitative\n",
    "3. Completeness/Efficiciency\n",
    "\n",
    "Check how to save MC info to make 3D view in bee display "
   ]
  },
  {
   "cell_type": "code",
   "execution_count": null,
   "id": "e70d19fc-3b55-4078-924d-ca921daa8aaa",
   "metadata": {},
   "outputs": [],
   "source": []
  }
 ],
 "metadata": {
  "kernelspec": {
   "display_name": "Python 3 (ipykernel)",
   "language": "python",
   "name": "python3"
  },
  "language_info": {
   "codemirror_mode": {
    "name": "ipython",
    "version": 3
   },
   "file_extension": ".py",
   "mimetype": "text/x-python",
   "name": "python",
   "nbconvert_exporter": "python",
   "pygments_lexer": "ipython3",
   "version": "3.11.7"
  }
 },
 "nbformat": 4,
 "nbformat_minor": 5
}
