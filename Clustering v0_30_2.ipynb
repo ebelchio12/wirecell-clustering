{
 "cells": [
  {
   "cell_type": "markdown",
   "id": "eb316ad8-32f1-4ebf-bfdf-e8e9f790458b",
   "metadata": {},
   "source": [
    "<h1>Wirecell Clustering v0_30_2</h1>"
   ]
  },
  {
   "cell_type": "markdown",
   "id": "a581e633-eee6-4011-b453-c7fe3b6a99ad",
   "metadata": {},
   "source": [
    "<h6>\n",
    "<u>File</u>: Clustering v0_30_2.ipynb <br>\n",
    "<br>\n",
    "<u>Author</u>: Ewerton Belchior <br>\n",
    "<br>\n",
    "<u>Goal</u>: General information on how to setup sbndcode and wirecell for clustering evaluation. <br>\n",
    "<br>"
   ]
  },
  {
   "cell_type": "markdown",
   "id": "7d530590-0dd8-4da8-bb5e-30752eb29e2c",
   "metadata": {},
   "source": [
    "<h5>Setup sbndcode"
   ]
  },
  {
   "cell_type": "code",
   "execution_count": null,
   "id": "eac0a1ab-9f60-4603-9d25-d97a2eff2e00",
   "metadata": {},
   "outputs": [],
   "source": [
    "/cvmfs/oasis.opensciencegrid.org/mis/apptainer/current/bin/apptainer shell --shell=/bin/bash -B /cvmfs,/exp,/nashome,/pnfs/sbn,/pnfs/sbnd,/opt,/run/user,/etc/hostname,/etc/hosts,/etc/krb5.conf --ipc --pid /cvmfs/singularity.opensciencegrid.org/fermilab/fnal-dev-sl7:latest"
   ]
  },
  {
   "cell_type": "code",
   "execution_count": null,
   "id": "16dbbbb6-3a75-4fc9-9f02-30bda94b45ff",
   "metadata": {},
   "outputs": [],
   "source": [
    "source /cvmfs/sbnd.opensciencegrid.org/products/sbnd/setup_sbnd.sh\n",
    "setup sbndcode v10_04_07 -q e26:prof\n",
    "cd /exp/sbnd/app/users/ebatista/wirecell-clustering/work"
   ]
  },
  {
   "cell_type": "markdown",
   "id": "056e8693-ff1d-4418-8001-3eb7c835af68",
   "metadata": {},
   "source": [
    "<h5>Buil wct for debugging only (no need to build/export LD if no debugging)"
   ]
  },
  {
   "cell_type": "code",
   "execution_count": null,
   "id": "b28f2dfb-940e-4f09-bae0-4e396ba30557",
   "metadata": {},
   "outputs": [],
   "source": [
    "cd /exp/sbnd/app/users/ebatista/wirecell-clustering/work/wire-cell-toolkit_v0.30.2\n",
    "./wcb configure \\\n",
    "--prefix=/exp/sbnd/app/users/ebatista/wirecell-clustering/work/wire-cell-toolkit_v0.30.2/install \\\n",
    "--with-spdlog=/cvmfs/larsoft.opensciencegrid.org/products/spdlog/v1_9_2 \\\n",
    "--with-spdlog-include=/cvmfs/larsoft.opensciencegrid.org/products/spdlog/v1_9_2/Linux64bit+3.10-2.17-e26-prof/include \\\n",
    "--with-spdlog-lib=/cvmfs/larsoft.opensciencegrid.org/products/spdlog/v1_9_2/Linux64bit+3.10-2.17-e26-prof/lib64 \\\n",
    "--with-jsoncpp=/cvmfs/larsoft.opensciencegrid.org/products/jsoncpp/v1_9_5a \\\n",
    "--with-jsoncpp-include=/cvmfs/larsoft.opensciencegrid.org/products/jsoncpp/v1_9_5a/Linux64bit+3.10-2.17-e26-prof/include \\\n",
    "--with-jsoncpp-lib=/cvmfs/larsoft.opensciencegrid.org/products/jsoncpp/v1_9_5a/Linux64bit+3.10-2.17-e26-prof/lib \\\n",
    "--with-eigen=/cvmfs/larsoft.opensciencegrid.org/products/eigen/v23_08_01_66e8f \\\n",
    "--with-eigen-include=/cvmfs/larsoft.opensciencegrid.org/products/eigen/v23_08_01_66e8f/include/eigen3 \\\n",
    "--with-jsonnet-lib=/cvmfs/larsoft.opensciencegrid.org/products/jsonnet/v0_17_0a/Linux64bit+3.10-2.17-e20-prof/lib \\\n",
    "--with-jsonnet-include=/cvmfs/larsoft.opensciencegrid.org/products/jsonnet/v0_17_0a/Linux64bit+3.10-2.17-e20-prof/include \\\n",
    "--boost-includes=/cvmfs/larsoft.opensciencegrid.org/products/boost/v1_82_0/Linux64bit+3.10-2.17-e26-prof/include \\\n",
    "--boost-libs=/cvmfs/larsoft.opensciencegrid.org/products/boost/v1_82_0/Linux64bit+3.10-2.17-e26-prof/lib\n",
    "./wcb -p -v --notests install\n",
    "cd -"
   ]
  },
  {
   "cell_type": "code",
   "execution_count": null,
   "id": "dd77484d-12e2-475b-8ccd-a9330133c9aa",
   "metadata": {},
   "outputs": [],
   "source": [
    "export LD_LIBRARY_PATH=/exp/sbnd/app/users/ebatista/wirecell-clustering/work/wire-cell-toolkit_v0.30.2/install/lib:$LD_LIBRARY_PATH"
   ]
  },
  {
   "cell_type": "markdown",
   "id": "94f70965-41f8-424e-a967-85e14533d43a",
   "metadata": {},
   "source": [
    "<h5>Buil larreco for truthDepos clustering using CellTree_Module.cc (clone just once. Build again when needed)"
   ]
  },
  {
   "cell_type": "code",
   "execution_count": null,
   "id": "bf482cb7-44e9-4ca7-9a3b-d02d841d73db",
   "metadata": {},
   "outputs": [],
   "source": [
    "cd /exp/sbnd/app/users/ebatista/wirecell-clustering/work\n",
    "mkdir larsoft_v10_04_07\n",
    "cd larsoft_v10_04_07\n",
    "mrb newDev\n",
    "source localProducts_larsoft_v10_04_07_e26_prof/setup\n",
    "cd srcs\n",
    "git clone -b v10_01_09 https://github.com/LArSoft/larreco.git\n",
    "mrb uc\n",
    "cd $MRB_BUILDDIR\n",
    "mrbsetenv\n",
    "mrb i --generator ninja\n",
    "mrbslp\n",
    "cd -"
   ]
  },
  {
   "cell_type": "markdown",
   "id": "29b72d87-6d50-44dc-864b-a5f396c729f1",
   "metadata": {},
   "source": [
    "<h5>Setup larreco"
   ]
  },
  {
   "cell_type": "code",
   "execution_count": null,
   "id": "a0c6db88-9d6a-45eb-92ff-6a06f18641d8",
   "metadata": {},
   "outputs": [],
   "source": [
    "# Use local larreco only to cluster thruthDepos based on their timming, using CellTree_module. If not, no need to setup local products.\n",
    "source larsoft_v10_04_07/localProducts_larsoft_v10_04_07_e26_prof/setup\n",
    "mrbslp"
   ]
  },
  {
   "cell_type": "code",
   "execution_count": null,
   "id": "a3447279-56d4-499f-9335-ea5a5c297a10",
   "metadata": {},
   "outputs": [],
   "source": [
    "# example running\n",
    "lar -n1 -c celltree_sbnd_ew.fcl /exp/sbnd/data/users/ebatista/wirecell-clustering/out/enuelastic/g4.root"
   ]
  },
  {
   "cell_type": "markdown",
   "id": "026bcbca-d77a-4a25-98ac-00e78c06b9dc",
   "metadata": {},
   "source": [
    "<h5>Setup clustering  (clone just once)"
   ]
  },
  {
   "cell_type": "code",
   "execution_count": null,
   "id": "96db520d-3d92-4eb9-b39f-856b5c1e85a2",
   "metadata": {},
   "outputs": [],
   "source": [
    "#git clone -b 0.30.2 https://github.com/WireCell/wire-cell-toolkit.git wire-cell-toolkit_v0.30.2"
   ]
  },
  {
   "cell_type": "code",
   "execution_count": null,
   "id": "44c09e6b-0105-4711-8637-62eb46a8f293",
   "metadata": {},
   "outputs": [],
   "source": [
    "export WIRECELL_PATH=/exp/sbnd/app/users/ebatista/wirecell-clustering/work/wire-cell-toolkit_v0.30.2/cfg:$WIRECELL_PATH\n",
    "#export WIRECELL_PATH=/exp/sbnd/app/users/yuhw/wire-cell-data:$WIRECELL_PATH\n",
    "export WIRECELL_PATH=/exp/sbnd/app/users/ebatista/wirecell-clustering/work/wire-cell-data:$WIRECELL_PATH"
   ]
  },
  {
   "cell_type": "code",
   "execution_count": null,
   "id": "12907118-a3d5-4fd8-b474-350b91a64a47",
   "metadata": {},
   "outputs": [],
   "source": [
    "# example running\n",
    "lar -n1 --nskip 10 -c wcp-porting-img/sbnd/wcls-img-clus-data.fcl /exp/sbnd/data/users/ebatista/wirecell-clustering/eval/run18005/sigproc.root\n",
    "python wcp-porting-img/sbnd/merge-zip.py\n",
    "source wcp-porting-img/upload-to-bee.sh mabc.zip"
   ]
  },
  {
   "cell_type": "markdown",
   "id": "1f353936-c235-4230-9e5f-b6b36361f188",
   "metadata": {},
   "source": [
    "<h4>Script to generate samples, run clustering and save output in txt</h4>"
   ]
  },
  {
   "cell_type": "markdown",
   "id": "0a6c6c11-e282-4947-8f01-92cbcce1432b",
   "metadata": {},
   "source": [
    "([Click here to open create_cluster_samples.sh](http://localhost:8888/notebooks/OneDrive/Documentos/backup-2025-xx-xx/Meetings/WireCell/Clustering/wirecell-clustering/create_cluster_samples.sh?))"
   ]
  },
  {
   "cell_type": "code",
   "execution_count": null,
   "id": "c2f2f2ae-820d-4b8b-947a-0a2c244baf2e",
   "metadata": {},
   "outputs": [],
   "source": [
    "cd /exp/sbnd/app/users/ebatista/wirecell-clustering/work\n",
    "bash create_cluster_samples.sh"
   ]
  }
 ],
 "metadata": {
  "kernelspec": {
   "display_name": "Python 3 (ipykernel)",
   "language": "python",
   "name": "python3"
  },
  "language_info": {
   "codemirror_mode": {
    "name": "ipython",
    "version": 3
   },
   "file_extension": ".py",
   "mimetype": "text/x-python",
   "name": "python",
   "nbconvert_exporter": "python",
   "pygments_lexer": "ipython3",
   "version": "3.11.7"
  }
 },
 "nbformat": 4,
 "nbformat_minor": 5
}
