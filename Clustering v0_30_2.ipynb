{
 "cells": [
  {
   "cell_type": "markdown",
   "id": "eb316ad8-32f1-4ebf-bfdf-e8e9f790458b",
   "metadata": {},
   "source": [
    "<h1>Wirecell Clustering v0_30_2</h1>"
   ]
  },
  {
   "cell_type": "markdown",
   "id": "a581e633-eee6-4011-b453-c7fe3b6a99ad",
   "metadata": {},
   "source": [
    "<h6>\n",
    "<u>File</u>: Clustering v0_30_2.ipynb <br>\n",
    "<br>\n",
    "<u>Author</u>: Ewerton Belchior <br>\n",
    "<br>\n",
    "<u>Goal</u>: General information on how to setup sbndcode and wirecell for clustering evaluation. <br>\n",
    "<br>"
   ]
  },
  {
   "cell_type": "markdown",
   "id": "7d0eb34d-ecf2-4dba-bda3-52b22881c23e",
   "metadata": {},
   "source": [
    "<h4>0) Create your working area"
   ]
  },
  {
   "cell_type": "code",
   "execution_count": null,
   "id": "eac0a1ab-9f60-4603-9d25-d97a2eff2e00",
   "metadata": {},
   "outputs": [],
   "source": [
    "export myworkdir=/exp/sbnd/app/users/ebatista/wirecell-clustering/work\n",
    "mkdir -p $myworkdir\n",
    "\n",
    "# go to your working area\n",
    "cd $myworkdir"
   ]
  },
  {
   "cell_type": "markdown",
   "id": "0872caff-9d85-41e8-9441-6e5d504eec05",
   "metadata": {},
   "source": [
    "<h4>1) Setup sbndcode"
   ]
  },
  {
   "cell_type": "code",
   "execution_count": null,
   "id": "918ac965-7d09-475d-9c74-7fe9423911fe",
   "metadata": {},
   "outputs": [],
   "source": [
    "/cvmfs/oasis.opensciencegrid.org/mis/apptainer/current/bin/apptainer shell --shell=/bin/bash -B /cvmfs,/exp,/nashome,/pnfs/sbn,/pnfs/sbnd,/opt,/run/user,/etc/hostname,/etc/hosts,/etc/krb5.conf --ipc --pid /cvmfs/singularity.opensciencegrid.org/fermilab/fnal-dev-sl7:latest"
   ]
  },
  {
   "cell_type": "code",
   "execution_count": null,
   "id": "16dbbbb6-3a75-4fc9-9f02-30bda94b45ff",
   "metadata": {},
   "outputs": [],
   "source": [
    "source /cvmfs/sbnd.opensciencegrid.org/products/sbnd/setup_sbnd.sh\n",
    "setup sbndcode v10_04_07 -q e26:prof"
   ]
  },
  {
   "cell_type": "markdown",
   "id": "00622baf-31ea-4a90-a6fe-2b7a7710d199",
   "metadata": {},
   "source": [
    "<h4>2) Build WCT<br><br>\n",
    "&nbsp;&nbsp;&nbsp;&nbsp;- This step should be done *only* if you are debugging any wct module locally (skip it otherwise)"
   ]
  },
  {
   "cell_type": "code",
   "execution_count": null,
   "id": "b28f2dfb-940e-4f09-bae0-4e396ba30557",
   "metadata": {},
   "outputs": [],
   "source": [
    "# go to your working area\n",
    "cd $myworkdir\n",
    "\n",
    "git clone -b 0.30.2 https://github.com/WireCell/wire-cell-toolkit.git wire-cell-toolkit_v0.30.2\n",
    "\n",
    "cd wire-cell-toolkit_v0.30.2\n",
    "mkdir -p install\n",
    "    \n",
    "./wcb configure \\\n",
    "--prefix=$myworkdir/wire-cell-toolkit_v0.30.2/install \\\n",
    "--with-spdlog=/cvmfs/larsoft.opensciencegrid.org/products/spdlog/v1_9_2 \\\n",
    "--with-spdlog-include=/cvmfs/larsoft.opensciencegrid.org/products/spdlog/v1_9_2/Linux64bit+3.10-2.17-e26-prof/include \\\n",
    "--with-spdlog-lib=/cvmfs/larsoft.opensciencegrid.org/products/spdlog/v1_9_2/Linux64bit+3.10-2.17-e26-prof/lib64 \\\n",
    "--with-jsoncpp=/cvmfs/larsoft.opensciencegrid.org/products/jsoncpp/v1_9_5a \\\n",
    "--with-jsoncpp-include=/cvmfs/larsoft.opensciencegrid.org/products/jsoncpp/v1_9_5a/Linux64bit+3.10-2.17-e26-prof/include \\\n",
    "--with-jsoncpp-lib=/cvmfs/larsoft.opensciencegrid.org/products/jsoncpp/v1_9_5a/Linux64bit+3.10-2.17-e26-prof/lib \\\n",
    "--with-eigen=/cvmfs/larsoft.opensciencegrid.org/products/eigen/v23_08_01_66e8f \\\n",
    "--with-eigen-include=/cvmfs/larsoft.opensciencegrid.org/products/eigen/v23_08_01_66e8f/include/eigen3 \\\n",
    "--with-jsonnet-lib=/cvmfs/larsoft.opensciencegrid.org/products/jsonnet/v0_17_0a/Linux64bit+3.10-2.17-e20-prof/lib \\\n",
    "--with-jsonnet-include=/cvmfs/larsoft.opensciencegrid.org/products/jsonnet/v0_17_0a/Linux64bit+3.10-2.17-e20-prof/include \\\n",
    "--boost-includes=/cvmfs/larsoft.opensciencegrid.org/products/boost/v1_82_0/Linux64bit+3.10-2.17-e26-prof/include \\\n",
    "--boost-libs=/cvmfs/larsoft.opensciencegrid.org/products/boost/v1_82_0/Linux64bit+3.10-2.17-e26-prof/lib\n",
    "./wcb -p -v --notests install\n",
    "\n",
    "# go back to your working area\n",
    "cd $myworkdir"
   ]
  },
  {
   "cell_type": "code",
   "execution_count": null,
   "id": "dd77484d-12e2-475b-8ccd-a9330133c9aa",
   "metadata": {},
   "outputs": [],
   "source": [
    "export LD_LIBRARY_PATH=$myworkdir/wire-cell-toolkit_v0.30.2/install/lib:$LD_LIBRARY_PATH"
   ]
  },
  {
   "cell_type": "markdown",
   "id": "70afcac5-7740-4130-84e2-f838e057ca14",
   "metadata": {},
   "source": [
    "<h4>3) Build larreco <br><br>\n",
    "&nbsp;&nbsp;&nbsp;&nbsp;-This step is needed for using a modified CellTree_Module.cc with truthDepos clustering (clone/build just once)"
   ]
  },
  {
   "cell_type": "code",
   "execution_count": null,
   "id": "24aa4c24-8b33-4093-a12d-5d10580ecb1d",
   "metadata": {},
   "outputs": [],
   "source": [
    "# go to your working area\n",
    "cd $myworkdir\n",
    "\n",
    "mkdir larsoft_v10_04_07\n",
    "cd larsoft_v10_04_07\n",
    "mrb newDev\n",
    "source localProducts_larsoft_v10_04_07_e26_prof/setup\n",
    "cd srcs\n",
    "git clone https://github.com/ebelchio12/larreco.git\n",
    "cd larreco\n",
    "git fetch --all\n",
    "git checkout ebelchio_edepos_clustering\n",
    "cd ..\n",
    "mrb uc\n",
    "cd $MRB_BUILDDIR\n",
    "mrbsetenv\n",
    "mrb i --generator ninja\n",
    "mrbslp\n",
    "cd -"
   ]
  },
  {
   "cell_type": "markdown",
   "id": "1f79e9ca-efd5-4856-8137-03cafbca071d",
   "metadata": {},
   "source": [
    "<h5>Setup larreco everytime you log in on gpvm"
   ]
  },
  {
   "cell_type": "code",
   "execution_count": null,
   "id": "a0c6db88-9d6a-45eb-92ff-6a06f18641d8",
   "metadata": {},
   "outputs": [],
   "source": [
    "# Use local larreco only to cluster thruthDepos based on their timming, using CellTree_module. If not, no need to setup local products.\n",
    "source $myworkdir/larsoft_v10_04_07/localProducts_larsoft_v10_04_07_e26_prof/setup\n",
    "mrbslp"
   ]
  },
  {
   "cell_type": "code",
   "execution_count": null,
   "id": "a3447279-56d4-499f-9335-ea5a5c297a10",
   "metadata": {},
   "outputs": [],
   "source": [
    "# example running\n",
    "lar -n1 -c $myworkdir/larsoft_v10_04_07/srcs/larreco/larreco/WireCell/celltree_sbnd.fcl /exp/sbnd/data/users/ebatista/wirecell-clustering/out/enuelastic/g4.root"
   ]
  },
  {
   "cell_type": "markdown",
   "id": "d81a5815-8c5f-4720-95f7-259d1a313df4",
   "metadata": {},
   "source": [
    "<h4>4) Run the workflow (create_cluster_samples.sh) for sample generation and signal processing"
   ]
  },
  {
   "cell_type": "code",
   "execution_count": null,
   "id": "cc55845e-e2e9-471d-866c-0d852079ac77",
   "metadata": {},
   "outputs": [],
   "source": [
    "cd $myworkdir\n",
    "bash create_cluster_samples.sh # up to sigproc only"
   ]
  },
  {
   "cell_type": "markdown",
   "id": "28de94c6-3f6f-44e0-b795-780db5e60a1c",
   "metadata": {},
   "source": [
    "<h4>5) Setup clustering"
   ]
  },
  {
   "cell_type": "code",
   "execution_count": null,
   "id": "1c25905e-c138-4d03-b3b8-5c798fc39e66",
   "metadata": {},
   "outputs": [],
   "source": [
    "# go to your working area\n",
    "cd $myworkdir\n",
    "mkdir img-clus-configs\n",
    "\n",
    "# copy wct configurations and data to your working directory\n",
    "cp -r /exp/sbnd/app/users/ebatista/wirecell-clustering/work/wire-cell-toolkit_v0.30.2/cfg img-clus-configs/\n",
    "cp -r /exp/sbnd/app/users/ebatista/wirecell-clustering/work/wire-cell-data img-clus-configs/\n",
    "cp -r /exp/sbnd/app/users/ebatista/wirecell-clustering/work/wcp-porting-img ."
   ]
  },
  {
   "cell_type": "code",
   "execution_count": null,
   "id": "44c09e6b-0105-4711-8637-62eb46a8f293",
   "metadata": {},
   "outputs": [],
   "source": [
    "export WIRECELL_PATH=$myworkdir/img-clus-configs/cfg:$WIRECELL_PATH\n",
    "#export WIRECELL_PATH=/exp/sbnd/app/users/yuhw/wire-cell-data:$WIRECELL_PATH\n",
    "export WIRECELL_PATH=$myworkdir/img-clus-configs/wire-cell-data:$WIRECELL_PATH"
   ]
  },
  {
   "cell_type": "code",
   "execution_count": null,
   "id": "12907118-a3d5-4fd8-b474-350b91a64a47",
   "metadata": {},
   "outputs": [],
   "source": [
    "# example running\n",
    "lar -n1 --nskip 10 -c wcp-porting-img/sbnd/wcls-img-clus-data.fcl /exp/sbnd/data/users/ebatista/wirecell-clustering/eval/run18005/sigproc.root\n",
    "python wcp-porting-img/sbnd/merge-zip.py\n",
    "source wcp-porting-img/upload-to-bee.sh mabc.zip"
   ]
  },
  {
   "cell_type": "markdown",
   "id": "8ecd4f43-6ddd-48c7-9985-a4bf300cb98b",
   "metadata": {},
   "source": [
    "<h4>6) Run the workflow for imaging and clustering, then save output in txt format</h4>"
   ]
  },
  {
   "cell_type": "code",
   "execution_count": null,
   "id": "c2f2f2ae-820d-4b8b-947a-0a2c244baf2e",
   "metadata": {},
   "outputs": [],
   "source": [
    "cd $myworkdir\n",
    "bash create_cluster_samples.sh "
   ]
  }
 ],
 "metadata": {
  "kernelspec": {
   "display_name": "Python 3 (ipykernel)",
   "language": "python",
   "name": "python3"
  },
  "language_info": {
   "codemirror_mode": {
    "name": "ipython",
    "version": 3
   },
   "file_extension": ".py",
   "mimetype": "text/x-python",
   "name": "python",
   "nbconvert_exporter": "python",
   "pygments_lexer": "ipython3",
   "version": "3.11.7"
  }
 },
 "nbformat": 4,
 "nbformat_minor": 5
}
