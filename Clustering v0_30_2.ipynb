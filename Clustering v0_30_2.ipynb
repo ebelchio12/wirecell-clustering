{
 "cells": [
  {
   "cell_type": "markdown",
   "id": "eaa69a5b-5549-41c6-b571-7218d8a6a296",
   "metadata": {},
   "source": [
    "<h1>Wirecell Clustering v0_30_2</h1>"
   ]
  },
  {
   "cell_type": "markdown",
   "id": "4c8ac28a-35e0-4832-bd31-1d80e2a75485",
   "metadata": {},
   "source": [
    "<h5>\n",
    "<u>File</u>: Clustering v0_30_2.ipynb <br>\n",
    "<br>\n",
    "<u>Author</u>: Ewerton Belchior <br>\n",
    "<br>\n",
    "<u>Goal</u>: General information on how to setup sbndcode and wirecell for clustering evaluation. <br>\n",
    "<br>"
   ]
  },
  {
   "cell_type": "markdown",
   "id": "7d530590-0dd8-4da8-bb5e-30752eb29e2c",
   "metadata": {},
   "source": [
    "<h5>Setup sbndcode"
   ]
  },
  {
   "cell_type": "code",
   "execution_count": null,
   "id": "eac0a1ab-9f60-4603-9d25-d97a2eff2e00",
   "metadata": {},
   "outputs": [],
   "source": [
    "/cvmfs/oasis.opensciencegrid.org/mis/apptainer/current/bin/apptainer shell --shell=/bin/bash -B /cvmfs,/exp,/nashome,/pnfs/sbn,/pnfs/sbnd,/opt,/run/user,/etc/hostname,/etc/hosts,/etc/krb5.conf --ipc --pid /cvmfs/singularity.opensciencegrid.org/fermilab/fnal-dev-sl7:latest"
   ]
  },
  {
   "cell_type": "code",
   "execution_count": null,
   "id": "16dbbbb6-3a75-4fc9-9f02-30bda94b45ff",
   "metadata": {},
   "outputs": [],
   "source": [
    "source /cvmfs/sbnd.opensciencegrid.org/products/sbnd/setup_sbnd.sh\n",
    "setup sbndcode v10_04_07 -q e26:prof\n",
    "cd /exp/sbnd/app/users/ebatista/wirecell-clustering/work"
   ]
  },
  {
   "cell_type": "markdown",
   "id": "056e8693-ff1d-4418-8001-3eb7c835af68",
   "metadata": {},
   "source": [
    "<h5>Buil wct for debugging only (no need to build/export LD if no debugging)"
   ]
  },
  {
   "cell_type": "code",
   "execution_count": null,
   "id": "b28f2dfb-940e-4f09-bae0-4e396ba30557",
   "metadata": {},
   "outputs": [],
   "source": [
    "cd /exp/sbnd/app/users/ebatista/wirecell-clustering/work/wire-cell-toolkit_v0.30.2\n",
    "./wcb configure \\\n",
    "--prefix=/exp/sbnd/app/users/ebatista/wirecell-clustering/work/wire-cell-toolkit_v0.30.2/install \\\n",
    "--with-spdlog=/cvmfs/larsoft.opensciencegrid.org/products/spdlog/v1_9_2 \\\n",
    "--with-spdlog-include=/cvmfs/larsoft.opensciencegrid.org/products/spdlog/v1_9_2/Linux64bit+3.10-2.17-e26-prof/include \\\n",
    "--with-spdlog-lib=/cvmfs/larsoft.opensciencegrid.org/products/spdlog/v1_9_2/Linux64bit+3.10-2.17-e26-prof/lib64 \\\n",
    "--with-jsoncpp=/cvmfs/larsoft.opensciencegrid.org/products/jsoncpp/v1_9_5a \\\n",
    "--with-jsoncpp-include=/cvmfs/larsoft.opensciencegrid.org/products/jsoncpp/v1_9_5a/Linux64bit+3.10-2.17-e26-prof/include \\\n",
    "--with-jsoncpp-lib=/cvmfs/larsoft.opensciencegrid.org/products/jsoncpp/v1_9_5a/Linux64bit+3.10-2.17-e26-prof/lib \\\n",
    "--with-eigen=/cvmfs/larsoft.opensciencegrid.org/products/eigen/v23_08_01_66e8f \\\n",
    "--with-eigen-include=/cvmfs/larsoft.opensciencegrid.org/products/eigen/v23_08_01_66e8f/include/eigen3 \\\n",
    "--with-jsonnet-lib=/cvmfs/larsoft.opensciencegrid.org/products/jsonnet/v0_17_0a/Linux64bit+3.10-2.17-e20-prof/lib \\\n",
    "--with-jsonnet-include=/cvmfs/larsoft.opensciencegrid.org/products/jsonnet/v0_17_0a/Linux64bit+3.10-2.17-e20-prof/include \\\n",
    "--boost-includes=/cvmfs/larsoft.opensciencegrid.org/products/boost/v1_82_0/Linux64bit+3.10-2.17-e26-prof/include \\\n",
    "--boost-libs=/cvmfs/larsoft.opensciencegrid.org/products/boost/v1_82_0/Linux64bit+3.10-2.17-e26-prof/lib\n",
    "./wcb -p -v --notests install\n",
    "cd -"
   ]
  },
  {
   "cell_type": "code",
   "execution_count": null,
   "id": "dd77484d-12e2-475b-8ccd-a9330133c9aa",
   "metadata": {},
   "outputs": [],
   "source": [
    "export LD_LIBRARY_PATH=/exp/sbnd/app/users/ebatista/wirecell-clustering/work/wire-cell-toolkit_v0.30.2/install/lib:$LD_LIBRARY_PATH"
   ]
  },
  {
   "cell_type": "markdown",
   "id": "94f70965-41f8-424e-a967-85e14533d43a",
   "metadata": {},
   "source": [
    "<h5>Buil larreco for truthDepos clustering using CellTree_Module.cc (clone just once. Build again when needed)"
   ]
  },
  {
   "cell_type": "code",
   "execution_count": null,
   "id": "bf482cb7-44e9-4ca7-9a3b-d02d841d73db",
   "metadata": {},
   "outputs": [],
   "source": [
    "cd /exp/sbnd/app/users/ebatista/wirecell-clustering/work\n",
    "mkdir larsoft_v10_04_07\n",
    "cd larsoft_v10_04_07\n",
    "mrb newDev\n",
    "source localProducts_larsoft_v10_04_07_e26_prof/setup\n",
    "cd srcs\n",
    "git clone -b v10_01_09 https://github.com/LArSoft/larreco.git\n",
    "mrb uc\n",
    "cd $MRB_BUILDDIR\n",
    "mrbsetenv\n",
    "mrb i --generator ninja\n",
    "mrbslp\n",
    "cd -"
   ]
  },
  {
   "cell_type": "markdown",
   "id": "29b72d87-6d50-44dc-864b-a5f396c729f1",
   "metadata": {},
   "source": [
    "<h5>Setup larreco"
   ]
  },
  {
   "cell_type": "code",
   "execution_count": null,
   "id": "a0c6db88-9d6a-45eb-92ff-6a06f18641d8",
   "metadata": {},
   "outputs": [],
   "source": [
    "# Use local larreco only to cluster thruthDepos based on their timming, using CellTree_module. If not, no need to setup local products.\n",
    "source larsoft_v10_04_07/localProducts_larsoft_v10_04_07_e26_prof/setup\n",
    "mrbslp"
   ]
  },
  {
   "cell_type": "code",
   "execution_count": null,
   "id": "a3447279-56d4-499f-9335-ea5a5c297a10",
   "metadata": {},
   "outputs": [],
   "source": [
    "# example running\n",
    "lar -n1 -c celltree_sbnd_ew.fcl /exp/sbnd/data/users/ebatista/wirecell-clustering/out/enuelastic/g4.root"
   ]
  },
  {
   "cell_type": "markdown",
   "id": "026bcbca-d77a-4a25-98ac-00e78c06b9dc",
   "metadata": {},
   "source": [
    "<h5>Setup clustering  (clone just once)"
   ]
  },
  {
   "cell_type": "code",
   "execution_count": null,
   "id": "96db520d-3d92-4eb9-b39f-856b5c1e85a2",
   "metadata": {},
   "outputs": [],
   "source": [
    "#git clone -b 0.30.2 https://github.com/WireCell/wire-cell-toolkit.git wire-cell-toolkit_v0.30.2"
   ]
  },
  {
   "cell_type": "code",
   "execution_count": null,
   "id": "44c09e6b-0105-4711-8637-62eb46a8f293",
   "metadata": {},
   "outputs": [],
   "source": [
    "export WIRECELL_PATH=/exp/sbnd/app/users/ebatista/wirecell-clustering/work/wire-cell-toolkit_v0.30.2/cfg:$WIRECELL_PATH\n",
    "#export WIRECELL_PATH=/exp/sbnd/app/users/yuhw/wire-cell-data:$WIRECELL_PATH\n",
    "export WIRECELL_PATH=/exp/sbnd/app/users/ebatista/wirecell-clustering/work/wire-cell-data:$WIRECELL_PATH"
   ]
  },
  {
   "cell_type": "code",
   "execution_count": null,
   "id": "12907118-a3d5-4fd8-b474-350b91a64a47",
   "metadata": {},
   "outputs": [],
   "source": [
    "# example running\n",
    "lar -n1 --nskip 10 -c wcp-porting-img/sbnd/wcls-img-clus-data.fcl /exp/sbnd/data/users/ebatista/wirecell-clustering/eval/run18005/sigproc.root\n",
    "python wcp-porting-img/sbnd/merge-zip.py\n",
    "source wcp-porting-img/upload-to-bee.sh mabc.zip"
   ]
  },
  {
   "cell_type": "markdown",
   "id": "4d57f96b-f10a-4ae3-bcce-d48b22c99541",
   "metadata": {},
   "source": [
    "<h4>Script to make and save 2D views of waveforms in any wire plane</h4>"
   ]
  },
  {
   "cell_type": "markdown",
   "id": "dd7d1680-ba9e-4baa-98e2-444c0e0513c1",
   "metadata": {},
   "source": [
    "([Click here to open draw_plane_view.C](http://localhost:8888/notebooks/OneDrive/Documentos/backup-2025-xx-xx/Meetings/WireCell/Clustering/wirecell-clustering/draw_plane_view.C?))"
   ]
  },
  {
   "cell_type": "code",
   "execution_count": null,
   "id": "4aea8c51-b87c-415b-9143-094ce240b973",
   "metadata": {},
   "outputs": [],
   "source": [
    "cd /exp/sbnd/app/users/ebatista/wirecell-clustering/work\n",
    "root -l -b -q draw_plane_view.C"
   ]
  },
  {
   "cell_type": "markdown",
   "id": "ee43bbd5-da00-4c30-b00b-56ce33e3e190",
   "metadata": {},
   "source": [
    "<h4>Script to change every tunable parameter in clus.jsonnet at a time and run clustering</h4>"
   ]
  },
  {
   "cell_type": "markdown",
   "id": "4cadaf4f-03c4-48b0-9026-160a0d7ceebf",
   "metadata": {},
   "source": [
    "([Click here to open replace_and_test_clustering.py](http://localhost:8888/notebooks/OneDrive/Documentos/backup-2025-xx-xx/Meetings/WireCell/Clustering/wirecell-clustering/replace_and_test_clustering.py?))"
   ]
  },
  {
   "cell_type": "code",
   "execution_count": 30,
   "id": "6ebf9be2-7803-4419-a13e-993c5bcd803c",
   "metadata": {},
   "outputs": [],
   "source": [
    "cd /exp/sbnd/app/users/ebatista/wirecell-clustering/work\n",
    "python replace_and_test_clustering.py"
   ]
  },
  {
   "cell_type": "markdown",
   "id": "1f353936-c235-4230-9e5f-b6b36361f188",
   "metadata": {},
   "source": [
    "<h4>Script to generate samples, run clustering and save output in txt</h4>"
   ]
  },
  {
   "cell_type": "markdown",
   "id": "0a6c6c11-e282-4947-8f01-92cbcce1432b",
   "metadata": {},
   "source": [
    "([Click here to open create_cluster_samples.sh](http://localhost:8888/notebooks/OneDrive/Documentos/backup-2025-xx-xx/Meetings/WireCell/Clustering/wirecell-clustering/create_cluster_samples.sh?))"
   ]
  },
  {
   "cell_type": "code",
   "execution_count": null,
   "id": "c2f2f2ae-820d-4b8b-947a-0a2c244baf2e",
   "metadata": {},
   "outputs": [],
   "source": [
    "cd /exp/sbnd/app/users/ebatista/wirecell-clustering/work\n",
    "bash create_cluster_samples.sh"
   ]
  },
  {
   "cell_type": "markdown",
   "id": "b1bfb921-bfd6-408a-845d-db550c43e8af",
   "metadata": {},
   "source": [
    "<h4>Tool to evaluate clustering performance</h4>"
   ]
  },
  {
   "cell_type": "markdown",
   "id": "c88c27f6-c92c-4fd6-b007-7bd8f6c9b0f4",
   "metadata": {},
   "source": [
    "Run **/nashome/e/ebatista/clustering_eval.ipynb** on gpvm (instructions to connect [here](http://localhost:8888/notebooks/OneDrive/Documentos/backup-2025-xx-xx/Meetings/WireCell/Misc/Misc.ipynb?))"
   ]
  },
  {
   "cell_type": "markdown",
   "id": "a10eb28c-338b-4cea-a4bd-323ab489381d",
   "metadata": {},
   "source": [
    "<h4>Clustering loogbook files</h4>"
   ]
  },
  {
   "cell_type": "code",
   "execution_count": 54,
   "id": "e063b4fc-3603-4f44-b891-e68672f9246f",
   "metadata": {},
   "outputs": [],
   "source": [
    "import os\n",
    "os.startfile(r\"C:\\Users\\ewert\\OneDrive\\Documentos\\backup-2025-xx-xx\\Meetings\\chat-Hanyu\\2025-01-08\\Presentation1.pptx\")"
   ]
  },
  {
   "cell_type": "code",
   "execution_count": 56,
   "id": "70d88fb0-6076-4356-84c4-426c8682a793",
   "metadata": {},
   "outputs": [],
   "source": [
    "import os\n",
    "os.startfile(r\"C:\\Users\\ewert\\OneDrive\\Documentos\\backup-2025-xx-xx\\Meetings\\wirecell-meeting-BNL\\2025-03-20\\Clustering-eval.pptx\")"
   ]
  },
  {
   "cell_type": "markdown",
   "id": "f9afefec-c7e1-4e4d-9854-26bc1db9bc9f",
   "metadata": {},
   "source": [
    "***\n",
    "<h4>DRAFT AREA</h4>"
   ]
  },
  {
   "cell_type": "code",
   "execution_count": null,
   "id": "3ae6ada4-2fb6-49d4-a849-a978598d518f",
   "metadata": {},
   "outputs": [],
   "source": [
    "# File: create_cluster_samples.sh\n",
    "# Author: Ewerton Belchior\n",
    "#\n",
    "# Goal: Script to generate samples, run clustering and save output in txt\n",
    "#\n",
    "# Usage: bash create_cluster_samples.sh\n",
    "#\n",
    "\n",
    "#!/bin/bash\n",
    "\n",
    "# choose sbndcode version\n",
    "SBNDCODE_VERSION=\"v10_04_07\"\n",
    "# choose process: \"cosmics\", \"nu_spill\", \"nuecc\", \"numucc\" or \"data\".\n",
    "PROCESS=\"nu_spill\"\n",
    "# [data only] choose run\n",
    "RUN=\"14766\"\n",
    "# events to process. Should be greater than 0.\n",
    "NEVT=100\n",
    "# [MC only] Use CellTree module to dump waveforms from Signal Processing step: true or false.\n",
    "DUMPWAVEFORM=false\n",
    "# [MC only] Use CellTree module to save simEdepos from APA in JSON. APA should be consistent with the save_apa parameter defined in FCL_CELLTREE: \"apa0\" or \"apa1\".\n",
    "TRUTHDEPOS_SAVEAPA=\"apa0\"\n",
    "\n",
    "# set DIR\n",
    "WORKDIR=/exp/sbnd/app/users/ebatista/wirecell-clustering/work\n",
    "OUTDIR=/exp/sbnd/data/users/ebatista/wirecell-clustering/out\n",
    "\n",
    "# FCLs for various steps\n",
    "FCL_GEN=\"\"\n",
    "#FCL_G4=g4_sce_lite_ew.fcl # for sbndcode v09_91_02\n",
    "FCL_G4=standard_g4_sbnd.fcl # for sbndcode v10_04_07\n",
    "FCL_SIGPROC=wirecell_sim_sp_sbnd.fcl\n",
    "FCL_IMGCLUS=$WORKDIR/wcp-porting-img/sbnd/wcls-img-clus.fcl\n",
    "FCL_CELLTREE=celltree_sbnd_ew.fcl # APA in this fcl should be consistent with the one defined above in TRUTHDEPOS_SAVEAPA.\n",
    "\n",
    "# ROOT macros\n",
    "ROOT_DUMPWAVEFORM=dump_waveform.C\n",
    "\n",
    "# define FCLs and output dir\n",
    "if [ \"$PROCESS\" == \"nu_spill\" ]; then\n",
    "  FCL_GEN=prodgenie_nu_spill_tpc_sbnd.fcl # Simulates GENIE neutrino interactions from the BNB beam with the beam spill structure, inside the TPC volume (with a 10 cm padding on each side)\n",
    "  OUTDIR=$OUTDIR/$SBNDCODE_VERSION/nu_spill\n",
    "elif [ \"$PROCESS\" == \"nuecc\" ]; then\n",
    "  FCL_GEN=prodgenie_intrnue_singleinteraction_tpc_sbnd.fcl #Simulates GENIE nue and anue neutrino interactions from the BNB beam\n",
    "  OUTDIR=$OUTDIR/nuecc\n",
    "elif [ \"$PROCESS\" == \"numucc\" ]; then\n",
    "  FCL_GEN==prodgenie_nu_singleinteraction_tpc_sbnd.fcl #Simulates GENIE neutrino interactions from the BNB beam forcing one interaction per event\n",
    "  OUTDIR=$OUTDIR/numucc\n",
    "elif [ \"$PROCESS\" == \"cosmics\" ]; then\n",
    "  FCL_GEN=prodgenie_bnb_nu_cosmic_sbnd.fcl #Generation of neutrinos from Booster Neutrino Beam with cosmic rays\n",
    "  #OUTDIR=$OUTDIR/bnb_nu_cosmic\n",
    "  OUTDIR=$OUTDIR/$SBNDCODE_VERSION/bnb_nu_cosmic_additional\n",
    "elif [ \"$PROCESS\" == \"data\" ]; then\n",
    "  FCL_SIGPROC=wirecell_sp_data_sbnd.fcl\n",
    "  FCL_IMGCLUS=$WORKDIR/wcp-porting-img/sbnd/wcls-img-clus-data.fcl\n",
    "  NEVT=20\n",
    "  if [ \"$RUN\" == \"14766\" ]; then\n",
    "    INPUT_DATA=/pnfs/sbn/data_add/sbnd/keepup/decoded-raw/filtered/00/decoded-raw_filtered_data_evb01_EventBuilder1_art1_run14766_15_20240711T232712-26f87ae3-e712-42f8-bd2b-65981bf66afd.root\n",
    "    OUTDIR=$OUTDIR/run14766\n",
    "  elif [ \"$RUN\" == \"18005\" ]; then\n",
    "    INPUT_DATA=/pnfs/sbn/data_add/sbnd/commissioning/run18005_decoded/decode_data_EventBuilder7_p2_art2_run18005_9_strmOffBeamZeroBias_20241215T065538-2def51e6-052f-4777-a377-a16fb74e8fc7.root\n",
    "    OUTDIR=$OUTDIR/run18005\n",
    "  fi\n",
    "fi\n",
    "\n",
    "# output for various steps\n",
    "OUTPUT_GEN=$OUTDIR/gen.root\n",
    "OUTPUT_G4=$OUTDIR/g4.root\n",
    "OUTPUT_SIGPROC=$OUTDIR/sigproc.root\n",
    "\n",
    "# clone img-clus repo\n",
    "cd $WORKDIR\n",
    "if [ ! -d \"wcp-porting-img\" ]; then\n",
    "  git clone https://github.com/HaiwangYu/wcp-porting-img.git\n",
    "fi\n",
    "\n",
    "# create output dir\n",
    "if [ ! -d \"$OUTDIR\" ]; then\n",
    "  mkdir -p $OUTDIR\n",
    "fi\n",
    "\n",
    "# steps to process depends on MC or Data\n",
    "if [ \"$PROCESS\" != \"data\" ]; then\n",
    "  echo \"Processing MC...\"\n",
    "  # gen\n",
    "  lar -n $NEVT -c $FCL_GEN -o $OUTPUT_GEN\n",
    "\n",
    "  # g4\n",
    "  #lar -n $NEVT -c $WORKDIR/$FCL_G4 -s $OUTPUT_GEN -o $OUTPUT_G4 # for sbndcode v09_91_02\n",
    "  lar -n $NEVT -c $FCL_G4 -s $OUTPUT_GEN -o $OUTPUT_G4 # for sbndcode v10_04_07\n",
    "  \n",
    "  # sigproc\n",
    "  lar -n $NEVT -c $FCL_SIGPROC -s $OUTPUT_G4 -o $OUTPUT_SIGPROC\n",
    "else\n",
    "  echo \"Processing data...\"\n",
    "  # sigproc\n",
    "  lar -n $NEVT -c $FCL_SIGPROC -s $INPUT_DATA -o $OUTPUT_SIGPROC\n",
    "fi\n",
    "\n",
    "\n",
    "# Bee output destination\n",
    "if [ ! -d \"$OUTDIR/data\" ]; then\n",
    "  for i in $(seq 0 $((NEVT - 1)))\n",
    "  do\n",
    "    mkdir -p $OUTDIR/data/$i\n",
    "  done\n",
    "fi\n",
    "'''\n",
    "# img-clus\n",
    "for i in $(seq 0 $((NEVT - 1)))\n",
    "do\n",
    "  start_clus=$(date +%s) # for execution time only\n",
    "  echo \" Processing clustering for event $i ...\"\n",
    "  #mkdir -p $OUTDIR/data/$i\n",
    "  lar -n 1 --nskip $i -c $FCL_IMGCLUS -s $OUTPUT_SIGPROC -o tmp.root >& $OUTDIR/lar-imgclus_$i.log\n",
    "  python $WORKDIR/wcp-porting-img/sbnd/merge-zip.py\n",
    "  bash $WORKDIR/wcp-porting-img/upload-to-bee.sh mabc.zip >& $OUTDIR/bee_$i.log\n",
    "  mv clus-apa0-face0.tar.gz $OUTDIR/clus-apa0-face0_$i.tar.gz\n",
    "  mv clus-apa1-face1.tar.gz $OUTDIR/clus-apa1-face1_$i.tar.gz\n",
    "  mv mabc-apa0-face0.zip $OUTDIR/mabc-apa0-face0_$i.zip\n",
    "  mv mabc-apa1-face1.zip $OUTDIR/mabc-apa1-face1_$i.zip\n",
    "  mv mabc.zip $OUTDIR/mabc_$i.zip\n",
    "  python $WORKDIR/unzip_file.py $OUTDIR/mabc_$i.zip $WORKDIR/\n",
    "  mv $WORKDIR/data/0/0-channel-deadarea.json $OUTDIR/data/$i/$i-channel-deadarea.json\n",
    "  mv $WORKDIR/data/0/0-clustering-0-0.json $OUTDIR/data/$i/$i-clustering-0-0.json\n",
    "  mv $WORKDIR/data/0/0-clustering-1-1.json $OUTDIR/data/$i/$i-clustering-1-1.json\n",
    "  mv $WORKDIR/data/0/0-img-0-0.json $OUTDIR/data/$i/$i-img-0-0.json\n",
    "  mv $WORKDIR/data/0/0-img-1-1.json $OUTDIR/data/$i/$i-img-1-1.json\n",
    "  rm -rf $WORKDIR/data\n",
    "  rm clus-apa* mabc* Roo*root tmp.root cputime.db memory.db messages.log errors.log hists_*root sbnd-data-check.root\n",
    "  end_clus=$(date +%s) # for execution time only\n",
    "  echo \"Clustering total time: $((end_clus - start_clus)) seconds\"\n",
    "done\n",
    "'''\n",
    "# truthDepos clustering (MC only)\n",
    "if [ \"$PROCESS\" != \"data\" ]; then\n",
    "  for i in $(seq 0 $((NEVT - 1)))\n",
    "  do\n",
    "    echo \" Processing truthDepos clustering for event $i ...\"\n",
    "    lar -n1 --nskip $i -c $FCL_CELLTREE $OUTPUT_G4 # G4 has simEnergyDepos. Check FCL_CELLTREE for which apa is being saved\n",
    "    if [[ \"$TRUTHDEPOS_SAVEAPA\" == \"apa0\" ]]; then\n",
    "      mv bee/data/0/0-truthDepo.json $OUTDIR/data/$i/$i-truthDepo-apa0.json\n",
    "    elif [[ \"$TRUTHDEPOS_SAVEAPA\" == \"apa1\" ]]; then\n",
    "      mv bee/data/0/0-truthDepo.json $OUTDIR/data/$i/$i-truthDepo-apa1.json\n",
    "    fi\n",
    "    if $DUMPWAVEFORM; then\n",
    "      lar -n1 --nskip $i -c $FCL_CELLTREE $OUTPUT_SIGPROC # SP has SimChannells and decon waveforms\n",
    "      root -l -b -q $WORKDIR/$ROOT_DUMPWAVEFORM\n",
    "      mv waveform.root $OUTDIR/waveform_$i.root\n",
    "    fi\n",
    "    rm -rf bee celltree.root cputime.db errors.log memory.db messages.log\n",
    "  done\n",
    "fi\n",
    "\n",
    "'''\n",
    "# upload to bee server and save url\n",
    "cd $OUTDIR\n",
    "zip -r data.zip data\n",
    "cd -\n",
    "bash $WORKDIR/wcp-porting-img/upload-to-bee.sh $OUTDIR/data.zip >& $OUTDIR/bee_merged.log\n",
    "cat $OUTDIR/bee_merged.log\n",
    "'''\n",
    "\n",
    "# clustering/truthDepos info for clustering evaluation (MC only)\n",
    "if [ \"$PROCESS\" != \"data\" ]; then\n",
    "\n",
    "  NEWOUTDIR=$OUTDIR/xyz-coordinates\n",
    "\n",
    "  # truthDepos info\n",
    "  X=6\n",
    "  Y=7\n",
    "  Z=8\n",
    "  TIME=9\n",
    "  CHARGE=10\n",
    "  CLUSTERID=12\n",
    "  E=13\n",
    "\n",
    "  if [ ! -d \"$NEWOUTDIR\" ]; then\n",
    "    mkdir -p $NEWOUTDIR\n",
    "  fi\n",
    "  for i in $(seq 0 $((NEVT - 1)))\n",
    "  do\n",
    "    mkdir -p $NEWOUTDIR/$i\n",
    "    if [[ \"$TRUTHDEPOS_SAVEAPA\" == \"apa0\" ]]; then\n",
    "      head -n $X $OUTDIR/data/$i/$i-truthDepo-apa0.json | tail -n 1 | cut -c 6- | rev | cut -c 3- | rev | tr ',' '\\n' > $NEWOUTDIR/$i/x_truth_apa0.txt\n",
    "      head -n $Y $OUTDIR/data/$i/$i-truthDepo-apa0.json | tail -n 1 | cut -c 6- | rev | cut -c 3- | rev | tr ',' '\\n' > $NEWOUTDIR/$i/y_truth_apa0.txt\n",
    "      head -n $Z $OUTDIR/data/$i/$i-truthDepo-apa0.json | tail -n 1 | cut -c 6- | rev | cut -c 3- | rev | tr ',' '\\n' > $NEWOUTDIR/$i/z_truth_apa0.txt\n",
    "      head -n $TIME $OUTDIR/data/$i/$i-truthDepo-apa0.json | tail -n 1 | cut -c 6- | rev | cut -c 3- | rev | tr ',' '\\n' > $NEWOUTDIR/$i/t_truth_apa0.txt\n",
    "      head -n $CHARGE $OUTDIR/data/$i/$i-truthDepo-apa0.json | tail -n 1 | cut -c 6- | rev | cut -c 3- | rev | tr ',' '\\n' > $NEWOUTDIR/$i/q_truth_apa0.txt\n",
    "      head -n $CLUSTERID $OUTDIR/data/$i/$i-truthDepo-apa0.json | tail -n 1 | cut -c 15- | rev | cut -c 3- | rev | tr ',' '\\n' > $NEWOUTDIR/$i/id_truth_apa0.txt\n",
    "      head -n $E $OUTDIR/data/$i/$i-truthDepo-apa0.json | tail -n 1 | cut -c 6- | rev | cut -c 3- | rev | tr ',' '\\n' > $NEWOUTDIR/$i/e_truth_apa0.txt\n",
    "    elif [[ \"$TRUTHDEPOS_SAVEAPA\" == \"apa1\" ]]; then\n",
    "      head -n $X $OUTDIR/data/$i/$i-truthDepo-apa1.json | tail -n 1 | cut -c 6- | rev | cut -c 3- | rev | tr ',' '\\n' > $NEWOUTDIR/$i/x_truth_apa1.txt\n",
    "      head -n $Y $OUTDIR/data/$i/$i-truthDepo-apa1.json | tail -n 1 | cut -c 6- | rev | cut -c 3- | rev | tr ',' '\\n' > $NEWOUTDIR/$i/y_truth_apa1.txt\n",
    "      head -n $Z $OUTDIR/data/$i/$i-truthDepo-apa1.json | tail -n 1 | cut -c 6- | rev | cut -c 3- | rev | tr ',' '\\n' > $NEWOUTDIR/$i/z_truth_apa1.txt\n",
    "      head -n $TIME $OUTDIR/data/$i/$i-truthDepo-apa1.json | tail -n 1 | cut -c 6- | rev | cut -c 3- | rev | tr ',' '\\n' > $NEWOUTDIR/$i/t_truth_apa1.txt\n",
    "      head -n $CHARGE $OUTDIR/data/$i/$i-truthDepo-apa1.json | tail -n 1 | cut -c 6- | rev | cut -c 3- | rev | tr ',' '\\n' > $NEWOUTDIR/$i/q_truth_apa1.txt\n",
    "      head -n $CLUSTERID $OUTDIR/data/$i/$i-truthDepo-apa1.json | tail -n 1 | cut -c 15- | rev | cut -c 3- | rev | tr ',' '\\n' > $NEWOUTDIR/$i/id_truth_apa1.txt\n",
    "      head -n $E $OUTDIR/data/$i/$i-truthDepo-apa1.json | tail -n 1 | cut -c 6- | rev | cut -c 3- | rev | tr ',' '\\n' > $NEWOUTDIR/$i/e_truth_apa1.txt\n",
    "    fi\n",
    "  done\n",
    "'''\n",
    "  # clustering info\n",
    "  for i in $(seq 0 $((NEVT - 1)))\n",
    "  do\n",
    "    awk -F'[][]' '{if (NF>2) print $2}' $OUTDIR/data/$i/$i-clustering-0-0.json | tr ',' '\\n' > $NEWOUTDIR/$i/id_clustering_apa0.txt\n",
    "    awk -F'[][]' '{if (NF>4) print $4}' $OUTDIR/data/$i/$i-clustering-0-0.json | tr ',' '\\n' > $NEWOUTDIR/$i/q_clustering_apa0.txt\n",
    "    awk -F'[][]' '{if (NF>6) print $6}' $OUTDIR/data/$i/$i-clustering-0-0.json | tr ',' '\\n' > $NEWOUTDIR/$i/x_clustering_apa0.txt\n",
    "    awk -F'[][]' '{if (NF>8) print $8}' $OUTDIR/data/$i/$i-clustering-0-0.json | tr ',' '\\n' > $NEWOUTDIR/$i/y_clustering_apa0.txt  \n",
    "    awk '{sub(/^.*z/, \"\"); print}' $OUTDIR/data/$i/$i-clustering-0-0.json | cut -c 4- | rev | cut -c 3- | rev | tr ',' '\\n' > $NEWOUTDIR/$i/z_clustering_apa0.txt\n",
    "    awk -F'[][]' '{if (NF>2) print $2}' $OUTDIR/data/$i/$i-clustering-1-1.json | tr ',' '\\n' > $NEWOUTDIR/$i/id_clustering_apa1.txt\n",
    "    awk -F'[][]' '{if (NF>4) print $4}' $OUTDIR/data/$i/$i-clustering-1-1.json | tr ',' '\\n' > $NEWOUTDIR/$i/q_clustering_apa1.txt\n",
    "    awk -F'[][]' '{if (NF>6) print $6}' $OUTDIR/data/$i/$i-clustering-1-1.json | tr ',' '\\n' > $NEWOUTDIR/$i/x_clustering_apa1.txt\n",
    "    awk -F'[][]' '{if (NF>8) print $8}' $OUTDIR/data/$i/$i-clustering-1-1.json | tr ',' '\\n' > $NEWOUTDIR/$i/y_clustering_apa1.txt  \n",
    "    awk '{sub(/^.*z/, \"\"); print}' $OUTDIR/data/$i/$i-clustering-1-1.json | cut -c 4- | rev | cut -c 3- | rev | tr ',' '\\n' > $NEWOUTDIR/$i/z_clustering_apa1.txt  \n",
    "  done\n",
    "'''\n",
    "fi"
   ]
  },
  {
   "cell_type": "markdown",
   "id": "9ee364c9-dc2d-40a3-b940-0e1587d125b7",
   "metadata": {},
   "source": [
    "***\n",
    "<h5>April 8</h5> <h4>TODO</h4>"
   ]
  },
  {
   "cell_type": "markdown",
   "id": "914da207-4820-4e65-8fa3-90d73de87151",
   "metadata": {},
   "source": [
    "wirecell-tolkit (master)\n",
    "\n",
    "clus.jsonnet:\n",
    "turn on everything!\n",
    "(turn on clustering_protect_overclustering line 149)\n",
    "(turn on clustering_neutrino               line 150)\n",
    "\n",
    "img.jsonnet:\n",
    "try 299 instead of 300 -> \"uboone-solving\" (keep adding gd2, cs2, ld2, gc then check metrics. Then, keep adding cs3, ld3, gc and check metrics.)\n",
    "\n",
    "Wirecell-toolkit should be availabe in sbndcode (10_04_07?)already (check with Haiwang which wct version is good)! Just use configuration locally\n",
    "\n",
    "-----------------------------------\n",
    "2ND ROUND CLUSTERING EVALUATION\n",
    "\n",
    "1) run on problematic events\n",
    "\n",
    "- make a copy of Haiwang's configuration -> keep my own\n",
    "\n",
    "- give preference to efficiency rather than purity when optimizing\n",
    "\n",
    "- a bit of underclustering is ok, but avoid try to avoid overclustering\n"
   ]
  },
  {
   "cell_type": "code",
   "execution_count": null,
   "id": "4b747fc6-aba1-4ee1-8103-170481cbd814",
   "metadata": {},
   "outputs": [],
   "source": [
    "cd neutrino-beam-spill\n",
    "lar -n1 -c prodgenie_nu_spill_tpc_sbnd.fcl -o neutrino-beam-spill/prodgenie_nu_spill_tpc_sbnd.root\n",
    "lar -n1 -c standard_g4_sbnd.fcl neutrino-beam-spill/prodgenie_nu_spill_tpc_sbnd.root -o neutrino-beam-spill/g4_prodgenie_nu_spill_tpc_sbnd.root\n",
    "lar -n1 -c wirecell_sim_sp_sbnd.fcl neutrino-beam-spill/g4_prodgenie_nu_spill_tpc_sbnd.root -o neutrino-beam-spill/wcsimsp_prodgenie_nu_spill_tpc_sbnd.root\n",
    "lar -n1 -c wcp-porting-img/sbnd/wcls-img-clus.fcl neutrino-beam-spill/wcsimsp_prodgenie_nu_spill_tpc_sbnd.root\n",
    "python wcp-porting-img/sbnd/merge-zip.py\n",
    "source wcp-porting-img/upload-to-bee.sh mabc.zip"
   ]
  },
  {
   "cell_type": "code",
   "execution_count": null,
   "id": "d8d7c2c8-382a-4cc8-bc23-0eb055db1aaf",
   "metadata": {},
   "outputs": [],
   "source": [
    "lar -n1 -c standard_g4_sbnd.fcl /exp/sbnd/data/users/ebatista/wirecell-clustering/out/bnb_nu_cosmic_additional/gen.root -o g4.root\n",
    "lar -n1 -c wirecell_sim_sp_sbnd.fcl g4.root -o wcsimsp.root\n",
    "lar -n1 -c wcp-porting-img/sbnd/wcls-img-clus.fcl wcsimsp.root"
   ]
  }
 ],
 "metadata": {
  "kernelspec": {
   "display_name": "Python 3 (ipykernel)",
   "language": "python",
   "name": "python3"
  },
  "language_info": {
   "codemirror_mode": {
    "name": "ipython",
    "version": 3
   },
   "file_extension": ".py",
   "mimetype": "text/x-python",
   "name": "python",
   "nbconvert_exporter": "python",
   "pygments_lexer": "ipython3",
   "version": "3.11.7"
  }
 },
 "nbformat": 4,
 "nbformat_minor": 5
}
